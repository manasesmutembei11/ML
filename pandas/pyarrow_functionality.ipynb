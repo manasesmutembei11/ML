{
 "cells": [
  {
   "cell_type": "raw",
   "id": "883cbb53-c7fa-4bbe-85c6-34ea16e64aaf",
   "metadata": {},
   "source": [
    "pandas can utilize PyArrow to extend functionality and improve the performance of various APIs. This includes:\n",
    "\n",
    "More extensive data types compared to NumPy\n",
    "\n",
    "Missing data support (NA) for all data types\n",
    "\n",
    "Performant IO reader integration\n",
    "\n",
    "Facilitate interoperability with other dataframe libraries based on the Apache Arrow specification (e.g. polars, cuDF)"
   ]
  },
  {
   "cell_type": "code",
   "execution_count": 13,
   "id": "52d472ae-fd6d-45c5-af81-9e15f961c6db",
   "metadata": {},
   "outputs": [
    {
     "ename": "ImportError",
     "evalue": "pyarrow>=10.0.1 is required for ArrowDtype",
     "output_type": "error",
     "traceback": [
      "\u001b[1;31m---------------------------------------------------------------------------\u001b[0m",
      "\u001b[1;31mImportError\u001b[0m                               Traceback (most recent call last)",
      "Cell \u001b[1;32mIn[13], line 5\u001b[0m\n\u001b[0;32m      2\u001b[0m \u001b[38;5;28;01mimport\u001b[39;00m\u001b[38;5;250m \u001b[39m\u001b[38;5;21;01mpandas\u001b[39;00m\u001b[38;5;250m \u001b[39m\u001b[38;5;28;01mas\u001b[39;00m\u001b[38;5;250m \u001b[39m\u001b[38;5;21;01mpd\u001b[39;00m\n\u001b[0;32m      4\u001b[0m list_str_type \u001b[38;5;241m=\u001b[39m pa\u001b[38;5;241m.\u001b[39mlist_(pa\u001b[38;5;241m.\u001b[39mstring())\n\u001b[1;32m----> 5\u001b[0m ser \u001b[38;5;241m=\u001b[39m pd\u001b[38;5;241m.\u001b[39mSeries([[\u001b[38;5;124m\"\u001b[39m\u001b[38;5;124mhello\u001b[39m\u001b[38;5;124m\"\u001b[39m], [\u001b[38;5;124m\"\u001b[39m\u001b[38;5;124mthere\u001b[39m\u001b[38;5;124m\"\u001b[39m]])\u001b[38;5;241m.\u001b[39mastype(\u001b[43mpd\u001b[49m\u001b[38;5;241;43m.\u001b[39;49m\u001b[43mArrowDtype\u001b[49m\u001b[43m(\u001b[49m\u001b[43mlist_str_type\u001b[49m\u001b[43m)\u001b[49m)\n\u001b[0;32m      7\u001b[0m ser\n",
      "File \u001b[1;32m~\\AppData\\Local\\Packages\\PythonSoftwareFoundation.Python.3.13_qbz5n2kfra8p0\\LocalCache\\local-packages\\Python313\\site-packages\\pandas\\core\\dtypes\\dtypes.py:2096\u001b[0m, in \u001b[0;36mArrowDtype.__init__\u001b[1;34m(self, pyarrow_dtype)\u001b[0m\n\u001b[0;32m   2094\u001b[0m \u001b[38;5;28msuper\u001b[39m()\u001b[38;5;241m.\u001b[39m\u001b[38;5;21m__init__\u001b[39m(\u001b[38;5;124m\"\u001b[39m\u001b[38;5;124mpyarrow\u001b[39m\u001b[38;5;124m\"\u001b[39m)\n\u001b[0;32m   2095\u001b[0m \u001b[38;5;28;01mif\u001b[39;00m pa_version_under10p1:\n\u001b[1;32m-> 2096\u001b[0m     \u001b[38;5;28;01mraise\u001b[39;00m \u001b[38;5;167;01mImportError\u001b[39;00m(\u001b[38;5;124m\"\u001b[39m\u001b[38;5;124mpyarrow>=10.0.1 is required for ArrowDtype\u001b[39m\u001b[38;5;124m\"\u001b[39m)\n\u001b[0;32m   2097\u001b[0m \u001b[38;5;28;01mif\u001b[39;00m \u001b[38;5;129;01mnot\u001b[39;00m \u001b[38;5;28misinstance\u001b[39m(pyarrow_dtype, pa\u001b[38;5;241m.\u001b[39mDataType):\n\u001b[0;32m   2098\u001b[0m     \u001b[38;5;28;01mraise\u001b[39;00m \u001b[38;5;167;01mValueError\u001b[39;00m(\n\u001b[0;32m   2099\u001b[0m         \u001b[38;5;124mf\u001b[39m\u001b[38;5;124m\"\u001b[39m\u001b[38;5;124mpyarrow_dtype (\u001b[39m\u001b[38;5;132;01m{\u001b[39;00mpyarrow_dtype\u001b[38;5;132;01m}\u001b[39;00m\u001b[38;5;124m) must be an instance \u001b[39m\u001b[38;5;124m\"\u001b[39m\n\u001b[0;32m   2100\u001b[0m         \u001b[38;5;124mf\u001b[39m\u001b[38;5;124m\"\u001b[39m\u001b[38;5;124mof a pyarrow.DataType. Got \u001b[39m\u001b[38;5;132;01m{\u001b[39;00m\u001b[38;5;28mtype\u001b[39m(pyarrow_dtype)\u001b[38;5;132;01m}\u001b[39;00m\u001b[38;5;124m instead.\u001b[39m\u001b[38;5;124m\"\u001b[39m\n\u001b[0;32m   2101\u001b[0m     )\n",
      "\u001b[1;31mImportError\u001b[0m: pyarrow>=10.0.1 is required for ArrowDtype"
     ]
    }
   ],
   "source": [
    "import pyarrow as pa\n",
    "import pandas as pd\n",
    "\n",
    "list_str_type = pa.list_(pa.string())\n",
    "ser = pd.Series([[\"hello\"], [\"there\"]]).astype(pd.ArrowDtype(list_str_type))\n",
    "\n",
    "ser"
   ]
  },
  {
   "cell_type": "code",
   "execution_count": null,
   "id": "c8cab05a-e0d7-4a2b-80b5-2d8d43259fa4",
   "metadata": {},
   "outputs": [],
   "source": []
  },
  {
   "cell_type": "code",
   "execution_count": null,
   "id": "1c5a3bcf-160f-4ae7-8dfe-592f9a9c676f",
   "metadata": {},
   "outputs": [],
   "source": []
  }
 ],
 "metadata": {
  "kernelspec": {
   "display_name": "Python 3 (ipykernel)",
   "language": "python",
   "name": "python3"
  },
  "language_info": {
   "codemirror_mode": {
    "name": "ipython",
    "version": 3
   },
   "file_extension": ".py",
   "mimetype": "text/x-python",
   "name": "python",
   "nbconvert_exporter": "python",
   "pygments_lexer": "ipython3",
   "version": "3.13.1"
  }
 },
 "nbformat": 4,
 "nbformat_minor": 5
}
