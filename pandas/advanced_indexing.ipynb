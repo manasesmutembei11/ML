{
 "cells": [
  {
   "cell_type": "code",
   "execution_count": 1,
   "id": "1ad3a74f-2de7-4fdf-9251-1cabd9523956",
   "metadata": {},
   "outputs": [
    {
     "data": {
      "text/plain": [
       "[('bar', 'one'),\n",
       " ('bar', 'two'),\n",
       " ('baz', 'one'),\n",
       " ('baz', 'two'),\n",
       " ('foo', 'one'),\n",
       " ('foo', 'two'),\n",
       " ('qux', 'one'),\n",
       " ('qux', 'two')]"
      ]
     },
     "execution_count": 1,
     "metadata": {},
     "output_type": "execute_result"
    }
   ],
   "source": [
    "import pandas as pd\n",
    "import numpy as np\n",
    "arrays = [\n",
    "    [\"bar\", \"bar\", \"baz\", \"baz\", \"foo\", \"foo\", \"qux\", \"qux\"],\n",
    "    [\"one\", \"two\", \"one\", \"two\", \"one\", \"two\", \"one\", \"two\"],\n",
    "]\n",
    "\n",
    "tuples = list(zip(*arrays))\n",
    "tuples"
   ]
  },
  {
   "cell_type": "code",
   "execution_count": 2,
   "id": "a6572715-9d5a-46b8-b2e9-bbac5c6a6d50",
   "metadata": {},
   "outputs": [
    {
     "data": {
      "text/plain": [
       "MultiIndex([('bar', 'one'),\n",
       "            ('bar', 'two'),\n",
       "            ('baz', 'one'),\n",
       "            ('baz', 'two'),\n",
       "            ('foo', 'one'),\n",
       "            ('foo', 'two'),\n",
       "            ('qux', 'one'),\n",
       "            ('qux', 'two')],\n",
       "           names=['first', 'second'])"
      ]
     },
     "execution_count": 2,
     "metadata": {},
     "output_type": "execute_result"
    }
   ],
   "source": [
    "index = pd.MultiIndex.from_tuples(tuples, names=[\"first\", \"second\"])\n",
    "index"
   ]
  },
  {
   "cell_type": "code",
   "execution_count": 3,
   "id": "5c0c6a41-e269-46cd-9c11-a57f2ddfa2e5",
   "metadata": {},
   "outputs": [
    {
     "data": {
      "text/plain": [
       "first  second\n",
       "bar    one       0.979685\n",
       "       two       0.966214\n",
       "baz    one      -0.745464\n",
       "       two      -0.980456\n",
       "foo    one       2.094937\n",
       "       two      -0.113716\n",
       "qux    one      -0.337668\n",
       "       two      -0.183021\n",
       "dtype: float64"
      ]
     },
     "execution_count": 3,
     "metadata": {},
     "output_type": "execute_result"
    }
   ],
   "source": [
    "s = pd.Series(np.random.randn(8), index=index)\n",
    "s"
   ]
  },
  {
   "cell_type": "code",
   "execution_count": 5,
   "id": "f5aaef71-a514-45a0-b187-e21b28607b57",
   "metadata": {},
   "outputs": [
    {
     "data": {
      "text/plain": [
       "MultiIndex([('bar', 'one'),\n",
       "            ('bar', 'two'),\n",
       "            ('baz', 'one'),\n",
       "            ('baz', 'two'),\n",
       "            ('foo', 'one'),\n",
       "            ('foo', 'two'),\n",
       "            ('qux', 'one'),\n",
       "            ('qux', 'two')],\n",
       "           names=['first', 'second'])"
      ]
     },
     "execution_count": 5,
     "metadata": {},
     "output_type": "execute_result"
    }
   ],
   "source": [
    "#When you want every pairing of the elements in two iterables, it can be easier to use the MultiIndex.from_product()\n",
    "iterables = [[\"bar\", \"baz\", \"foo\", \"qux\"], [\"one\", \"two\"]]\n",
    "pd.MultiIndex.from_product(iterables, names=[\"first\", \"second\"])"
   ]
  },
  {
   "cell_type": "code",
   "execution_count": 6,
   "id": "9424cdb9-1c66-4bee-b324-af91c14c3f9a",
   "metadata": {},
   "outputs": [
    {
     "data": {
      "text/plain": [
       "MultiIndex([('bar', 'one'),\n",
       "            ('bar', 'two'),\n",
       "            ('foo', 'one'),\n",
       "            ('foo', 'two')],\n",
       "           names=['first', 'second'])"
      ]
     },
     "execution_count": 6,
     "metadata": {},
     "output_type": "execute_result"
    }
   ],
   "source": [
    "#You can also construct a MultiIndex from a DataFrame directly, using the method MultiIndex.from_frame().\n",
    "df = pd.DataFrame(\n",
    "    [[\"bar\", \"one\"], [\"bar\", \"two\"], [\"foo\", \"one\"], [\"foo\", \"two\"]],\n",
    "    columns=[\"first\", \"second\"],\n",
    ")\n",
    "pd.MultiIndex.from_frame(df)"
   ]
  },
  {
   "cell_type": "code",
   "execution_count": 7,
   "id": "e51440e5-779d-4a51-834e-2e8559dc39a2",
   "metadata": {},
   "outputs": [
    {
     "data": {
      "text/plain": [
       "bar  one   -1.023428\n",
       "     two   -0.180229\n",
       "baz  one    0.644677\n",
       "     two    0.688147\n",
       "foo  one    0.643129\n",
       "     two    1.043749\n",
       "qux  one   -1.025093\n",
       "     two   -0.985370\n",
       "dtype: float64"
      ]
     },
     "execution_count": 7,
     "metadata": {},
     "output_type": "execute_result"
    }
   ],
   "source": [
    "#As a convenience, you can pass a list of arrays directly into Series or DataFrame to construct a MultiIndex automatically:\n",
    "arrays = [\n",
    "    np.array([\"bar\", \"bar\", \"baz\", \"baz\", \"foo\", \"foo\", \"qux\", \"qux\"]),\n",
    "    np.array([\"one\", \"two\", \"one\", \"two\", \"one\", \"two\", \"one\", \"two\"]),]\n",
    "s = pd.Series(np.random.randn(8), index=arrays)\n",
    "s"
   ]
  },
  {
   "cell_type": "code",
   "execution_count": 8,
   "id": "e7781ea3-3308-4528-8594-14a5c5490571",
   "metadata": {},
   "outputs": [
    {
     "data": {
      "text/html": [
       "<div>\n",
       "<style scoped>\n",
       "    .dataframe tbody tr th:only-of-type {\n",
       "        vertical-align: middle;\n",
       "    }\n",
       "\n",
       "    .dataframe tbody tr th {\n",
       "        vertical-align: top;\n",
       "    }\n",
       "\n",
       "    .dataframe thead th {\n",
       "        text-align: right;\n",
       "    }\n",
       "</style>\n",
       "<table border=\"1\" class=\"dataframe\">\n",
       "  <thead>\n",
       "    <tr style=\"text-align: right;\">\n",
       "      <th></th>\n",
       "      <th></th>\n",
       "      <th>0</th>\n",
       "      <th>1</th>\n",
       "      <th>2</th>\n",
       "      <th>3</th>\n",
       "    </tr>\n",
       "  </thead>\n",
       "  <tbody>\n",
       "    <tr>\n",
       "      <th rowspan=\"2\" valign=\"top\">bar</th>\n",
       "      <th>one</th>\n",
       "      <td>0.004742</td>\n",
       "      <td>1.119561</td>\n",
       "      <td>-0.210066</td>\n",
       "      <td>-0.382296</td>\n",
       "    </tr>\n",
       "    <tr>\n",
       "      <th>two</th>\n",
       "      <td>0.499970</td>\n",
       "      <td>-0.592390</td>\n",
       "      <td>1.104899</td>\n",
       "      <td>0.123306</td>\n",
       "    </tr>\n",
       "    <tr>\n",
       "      <th rowspan=\"2\" valign=\"top\">baz</th>\n",
       "      <th>one</th>\n",
       "      <td>1.937715</td>\n",
       "      <td>-0.490255</td>\n",
       "      <td>-0.049719</td>\n",
       "      <td>0.457986</td>\n",
       "    </tr>\n",
       "    <tr>\n",
       "      <th>two</th>\n",
       "      <td>-1.538482</td>\n",
       "      <td>-1.756821</td>\n",
       "      <td>0.477922</td>\n",
       "      <td>-0.465118</td>\n",
       "    </tr>\n",
       "    <tr>\n",
       "      <th rowspan=\"2\" valign=\"top\">foo</th>\n",
       "      <th>one</th>\n",
       "      <td>-0.068237</td>\n",
       "      <td>0.735193</td>\n",
       "      <td>0.138271</td>\n",
       "      <td>-1.407486</td>\n",
       "    </tr>\n",
       "    <tr>\n",
       "      <th>two</th>\n",
       "      <td>-0.261172</td>\n",
       "      <td>-0.746872</td>\n",
       "      <td>1.321869</td>\n",
       "      <td>0.347061</td>\n",
       "    </tr>\n",
       "    <tr>\n",
       "      <th rowspan=\"2\" valign=\"top\">qux</th>\n",
       "      <th>one</th>\n",
       "      <td>1.704384</td>\n",
       "      <td>0.032460</td>\n",
       "      <td>-0.397413</td>\n",
       "      <td>1.302981</td>\n",
       "    </tr>\n",
       "    <tr>\n",
       "      <th>two</th>\n",
       "      <td>1.800001</td>\n",
       "      <td>0.356264</td>\n",
       "      <td>-1.660905</td>\n",
       "      <td>0.301784</td>\n",
       "    </tr>\n",
       "  </tbody>\n",
       "</table>\n",
       "</div>"
      ],
      "text/plain": [
       "                0         1         2         3\n",
       "bar one  0.004742  1.119561 -0.210066 -0.382296\n",
       "    two  0.499970 -0.592390  1.104899  0.123306\n",
       "baz one  1.937715 -0.490255 -0.049719  0.457986\n",
       "    two -1.538482 -1.756821  0.477922 -0.465118\n",
       "foo one -0.068237  0.735193  0.138271 -1.407486\n",
       "    two -0.261172 -0.746872  1.321869  0.347061\n",
       "qux one  1.704384  0.032460 -0.397413  1.302981\n",
       "    two  1.800001  0.356264 -1.660905  0.301784"
      ]
     },
     "execution_count": 8,
     "metadata": {},
     "output_type": "execute_result"
    }
   ],
   "source": [
    "df = pd.DataFrame(np.random.randn(8, 4), index=arrays)\n",
    "df"
   ]
  },
  {
   "cell_type": "code",
   "execution_count": 9,
   "id": "fc699857-9c3c-4412-bf18-dee2c09bdef8",
   "metadata": {},
   "outputs": [
    {
     "data": {
      "text/html": [
       "<div>\n",
       "<style scoped>\n",
       "    .dataframe tbody tr th:only-of-type {\n",
       "        vertical-align: middle;\n",
       "    }\n",
       "\n",
       "    .dataframe tbody tr th {\n",
       "        vertical-align: top;\n",
       "    }\n",
       "\n",
       "    .dataframe thead tr th {\n",
       "        text-align: left;\n",
       "    }\n",
       "</style>\n",
       "<table border=\"1\" class=\"dataframe\">\n",
       "  <thead>\n",
       "    <tr>\n",
       "      <th>first</th>\n",
       "      <th colspan=\"2\" halign=\"left\">bar</th>\n",
       "      <th colspan=\"2\" halign=\"left\">baz</th>\n",
       "      <th colspan=\"2\" halign=\"left\">foo</th>\n",
       "      <th colspan=\"2\" halign=\"left\">qux</th>\n",
       "    </tr>\n",
       "    <tr>\n",
       "      <th>second</th>\n",
       "      <th>one</th>\n",
       "      <th>two</th>\n",
       "      <th>one</th>\n",
       "      <th>two</th>\n",
       "      <th>one</th>\n",
       "      <th>two</th>\n",
       "      <th>one</th>\n",
       "      <th>two</th>\n",
       "    </tr>\n",
       "  </thead>\n",
       "  <tbody>\n",
       "    <tr>\n",
       "      <th>A</th>\n",
       "      <td>-0.628907</td>\n",
       "      <td>0.155298</td>\n",
       "      <td>-0.401352</td>\n",
       "      <td>0.695679</td>\n",
       "      <td>1.412249</td>\n",
       "      <td>-0.180013</td>\n",
       "      <td>-1.796897</td>\n",
       "      <td>0.911981</td>\n",
       "    </tr>\n",
       "    <tr>\n",
       "      <th>B</th>\n",
       "      <td>0.450944</td>\n",
       "      <td>-0.409151</td>\n",
       "      <td>0.985345</td>\n",
       "      <td>-0.639146</td>\n",
       "      <td>-0.547217</td>\n",
       "      <td>1.148072</td>\n",
       "      <td>0.397425</td>\n",
       "      <td>-1.152917</td>\n",
       "    </tr>\n",
       "    <tr>\n",
       "      <th>C</th>\n",
       "      <td>-0.215011</td>\n",
       "      <td>0.855344</td>\n",
       "      <td>-1.264645</td>\n",
       "      <td>0.926915</td>\n",
       "      <td>1.129915</td>\n",
       "      <td>0.172446</td>\n",
       "      <td>0.152086</td>\n",
       "      <td>-0.602727</td>\n",
       "    </tr>\n",
       "  </tbody>\n",
       "</table>\n",
       "</div>"
      ],
      "text/plain": [
       "first        bar                 baz                 foo                 qux  \\\n",
       "second       one       two       one       two       one       two       one   \n",
       "A      -0.628907  0.155298 -0.401352  0.695679  1.412249 -0.180013 -1.796897   \n",
       "B       0.450944 -0.409151  0.985345 -0.639146 -0.547217  1.148072  0.397425   \n",
       "C      -0.215011  0.855344 -1.264645  0.926915  1.129915  0.172446  0.152086   \n",
       "\n",
       "first             \n",
       "second       two  \n",
       "A       0.911981  \n",
       "B      -1.152917  \n",
       "C      -0.602727  "
      ]
     },
     "execution_count": 9,
     "metadata": {},
     "output_type": "execute_result"
    }
   ],
   "source": [
    "df = pd.DataFrame(np.random.randn(3, 8), index=[\"A\", \"B\", \"C\"], columns=index)\n",
    "df"
   ]
  },
  {
   "cell_type": "code",
   "execution_count": 10,
   "id": "7390fa5a-38c2-4188-b99d-ec04eeac0c10",
   "metadata": {},
   "outputs": [
    {
     "data": {
      "text/html": [
       "<div>\n",
       "<style scoped>\n",
       "    .dataframe tbody tr th:only-of-type {\n",
       "        vertical-align: middle;\n",
       "    }\n",
       "\n",
       "    .dataframe tbody tr th {\n",
       "        vertical-align: top;\n",
       "    }\n",
       "\n",
       "    .dataframe thead tr th {\n",
       "        text-align: left;\n",
       "    }\n",
       "\n",
       "    .dataframe thead tr:last-of-type th {\n",
       "        text-align: right;\n",
       "    }\n",
       "</style>\n",
       "<table border=\"1\" class=\"dataframe\">\n",
       "  <thead>\n",
       "    <tr>\n",
       "      <th></th>\n",
       "      <th>first</th>\n",
       "      <th colspan=\"2\" halign=\"left\">bar</th>\n",
       "      <th colspan=\"2\" halign=\"left\">baz</th>\n",
       "      <th colspan=\"2\" halign=\"left\">foo</th>\n",
       "    </tr>\n",
       "    <tr>\n",
       "      <th></th>\n",
       "      <th>second</th>\n",
       "      <th>one</th>\n",
       "      <th>two</th>\n",
       "      <th>one</th>\n",
       "      <th>two</th>\n",
       "      <th>one</th>\n",
       "      <th>two</th>\n",
       "    </tr>\n",
       "    <tr>\n",
       "      <th>first</th>\n",
       "      <th>second</th>\n",
       "      <th></th>\n",
       "      <th></th>\n",
       "      <th></th>\n",
       "      <th></th>\n",
       "      <th></th>\n",
       "      <th></th>\n",
       "    </tr>\n",
       "  </thead>\n",
       "  <tbody>\n",
       "    <tr>\n",
       "      <th rowspan=\"2\" valign=\"top\">bar</th>\n",
       "      <th>one</th>\n",
       "      <td>0.175376</td>\n",
       "      <td>-0.668097</td>\n",
       "      <td>-0.353511</td>\n",
       "      <td>0.065282</td>\n",
       "      <td>1.399483</td>\n",
       "      <td>-0.467746</td>\n",
       "    </tr>\n",
       "    <tr>\n",
       "      <th>two</th>\n",
       "      <td>-0.208427</td>\n",
       "      <td>0.309521</td>\n",
       "      <td>1.562127</td>\n",
       "      <td>0.470713</td>\n",
       "      <td>-1.216513</td>\n",
       "      <td>-0.516860</td>\n",
       "    </tr>\n",
       "    <tr>\n",
       "      <th rowspan=\"2\" valign=\"top\">baz</th>\n",
       "      <th>one</th>\n",
       "      <td>2.637428</td>\n",
       "      <td>0.306914</td>\n",
       "      <td>1.044476</td>\n",
       "      <td>-1.978090</td>\n",
       "      <td>-0.767999</td>\n",
       "      <td>1.227338</td>\n",
       "    </tr>\n",
       "    <tr>\n",
       "      <th>two</th>\n",
       "      <td>0.526580</td>\n",
       "      <td>-2.475361</td>\n",
       "      <td>-2.038171</td>\n",
       "      <td>0.751653</td>\n",
       "      <td>-0.601967</td>\n",
       "      <td>-0.186436</td>\n",
       "    </tr>\n",
       "    <tr>\n",
       "      <th rowspan=\"2\" valign=\"top\">foo</th>\n",
       "      <th>one</th>\n",
       "      <td>-0.294260</td>\n",
       "      <td>-0.915597</td>\n",
       "      <td>-1.581142</td>\n",
       "      <td>-0.843545</td>\n",
       "      <td>-0.070900</td>\n",
       "      <td>2.167696</td>\n",
       "    </tr>\n",
       "    <tr>\n",
       "      <th>two</th>\n",
       "      <td>-2.211289</td>\n",
       "      <td>-0.378167</td>\n",
       "      <td>1.225370</td>\n",
       "      <td>-0.544170</td>\n",
       "      <td>-0.039942</td>\n",
       "      <td>0.047972</td>\n",
       "    </tr>\n",
       "  </tbody>\n",
       "</table>\n",
       "</div>"
      ],
      "text/plain": [
       "first              bar                 baz                 foo          \n",
       "second             one       two       one       two       one       two\n",
       "first second                                                            \n",
       "bar   one     0.175376 -0.668097 -0.353511  0.065282  1.399483 -0.467746\n",
       "      two    -0.208427  0.309521  1.562127  0.470713 -1.216513 -0.516860\n",
       "baz   one     2.637428  0.306914  1.044476 -1.978090 -0.767999  1.227338\n",
       "      two     0.526580 -2.475361 -2.038171  0.751653 -0.601967 -0.186436\n",
       "foo   one    -0.294260 -0.915597 -1.581142 -0.843545 -0.070900  2.167696\n",
       "      two    -2.211289 -0.378167  1.225370 -0.544170 -0.039942  0.047972"
      ]
     },
     "execution_count": 10,
     "metadata": {},
     "output_type": "execute_result"
    }
   ],
   "source": [
    "pd.DataFrame(np.random.randn(6, 6), index=index[:6], columns=index[:6])"
   ]
  },
  {
   "cell_type": "code",
   "execution_count": 11,
   "id": "5defb151-a822-43ae-acd5-baf6c8029cb9",
   "metadata": {},
   "outputs": [
    {
     "data": {
      "text/html": [
       "<div>\n",
       "<style scoped>\n",
       "    .dataframe tbody tr th:only-of-type {\n",
       "        vertical-align: middle;\n",
       "    }\n",
       "\n",
       "    .dataframe tbody tr th {\n",
       "        vertical-align: top;\n",
       "    }\n",
       "\n",
       "    .dataframe thead th {\n",
       "        text-align: right;\n",
       "    }\n",
       "</style>\n",
       "<table border=\"1\" class=\"dataframe\">\n",
       "  <thead>\n",
       "    <tr style=\"text-align: right;\">\n",
       "      <th>second</th>\n",
       "      <th>one</th>\n",
       "      <th>two</th>\n",
       "    </tr>\n",
       "  </thead>\n",
       "  <tbody>\n",
       "    <tr>\n",
       "      <th>A</th>\n",
       "      <td>-0.628907</td>\n",
       "      <td>0.155298</td>\n",
       "    </tr>\n",
       "    <tr>\n",
       "      <th>B</th>\n",
       "      <td>0.450944</td>\n",
       "      <td>-0.409151</td>\n",
       "    </tr>\n",
       "    <tr>\n",
       "      <th>C</th>\n",
       "      <td>-0.215011</td>\n",
       "      <td>0.855344</td>\n",
       "    </tr>\n",
       "  </tbody>\n",
       "</table>\n",
       "</div>"
      ],
      "text/plain": [
       "second       one       two\n",
       "A      -0.628907  0.155298\n",
       "B       0.450944 -0.409151\n",
       "C      -0.215011  0.855344"
      ]
     },
     "execution_count": 11,
     "metadata": {},
     "output_type": "execute_result"
    }
   ],
   "source": [
    "#Basic indexing on axis with MultiIndex\n",
    "df['bar']"
   ]
  },
  {
   "cell_type": "code",
   "execution_count": 12,
   "id": "1ea3fdac-cd28-4e32-b11b-ba3c45c8c8a7",
   "metadata": {},
   "outputs": [
    {
     "data": {
      "text/plain": [
       "A   -0.628907\n",
       "B    0.450944\n",
       "C   -0.215011\n",
       "Name: (bar, one), dtype: float64"
      ]
     },
     "execution_count": 12,
     "metadata": {},
     "output_type": "execute_result"
    }
   ],
   "source": [
    "df['bar','one']"
   ]
  },
  {
   "cell_type": "code",
   "execution_count": 13,
   "id": "eb6b10e3-7d73-4366-8689-62c9e453ca7d",
   "metadata": {},
   "outputs": [
    {
     "data": {
      "text/plain": [
       "one   -1.025093\n",
       "two   -0.985370\n",
       "dtype: float64"
      ]
     },
     "execution_count": 13,
     "metadata": {},
     "output_type": "execute_result"
    }
   ],
   "source": [
    "s['qux']"
   ]
  },
  {
   "cell_type": "code",
   "execution_count": null,
   "id": "6da45e31-977d-4d00-a5cb-204714a5b177",
   "metadata": {},
   "outputs": [],
   "source": [
    "#Data alignment and using reindex\n",
    "s + s[:-2]"
   ]
  }
 ],
 "metadata": {
  "kernelspec": {
   "display_name": "Python 3 (ipykernel)",
   "language": "python",
   "name": "python3"
  },
  "language_info": {
   "codemirror_mode": {
    "name": "ipython",
    "version": 3
   },
   "file_extension": ".py",
   "mimetype": "text/x-python",
   "name": "python",
   "nbconvert_exporter": "python",
   "pygments_lexer": "ipython3",
   "version": "3.13.1"
  }
 },
 "nbformat": 4,
 "nbformat_minor": 5
}
