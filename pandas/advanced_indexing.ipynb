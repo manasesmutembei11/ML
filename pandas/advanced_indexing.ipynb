{
 "cells": [
  {
   "cell_type": "code",
   "execution_count": 1,
   "id": "1ad3a74f-2de7-4fdf-9251-1cabd9523956",
   "metadata": {},
   "outputs": [
    {
     "data": {
      "text/plain": [
       "[('bar', 'one'),\n",
       " ('bar', 'two'),\n",
       " ('baz', 'one'),\n",
       " ('baz', 'two'),\n",
       " ('foo', 'one'),\n",
       " ('foo', 'two'),\n",
       " ('qux', 'one'),\n",
       " ('qux', 'two')]"
      ]
     },
     "execution_count": 1,
     "metadata": {},
     "output_type": "execute_result"
    }
   ],
   "source": [
    "import pandas as pd\n",
    "import numpy as np\n",
    "arrays = [\n",
    "    [\"bar\", \"bar\", \"baz\", \"baz\", \"foo\", \"foo\", \"qux\", \"qux\"],\n",
    "    [\"one\", \"two\", \"one\", \"two\", \"one\", \"two\", \"one\", \"two\"],\n",
    "]\n",
    "\n",
    "tuples = list(zip(*arrays))\n",
    "tuples"
   ]
  },
  {
   "cell_type": "code",
   "execution_count": 2,
   "id": "a6572715-9d5a-46b8-b2e9-bbac5c6a6d50",
   "metadata": {},
   "outputs": [
    {
     "data": {
      "text/plain": [
       "MultiIndex([('bar', 'one'),\n",
       "            ('bar', 'two'),\n",
       "            ('baz', 'one'),\n",
       "            ('baz', 'two'),\n",
       "            ('foo', 'one'),\n",
       "            ('foo', 'two'),\n",
       "            ('qux', 'one'),\n",
       "            ('qux', 'two')],\n",
       "           names=['first', 'second'])"
      ]
     },
     "execution_count": 2,
     "metadata": {},
     "output_type": "execute_result"
    }
   ],
   "source": [
    "index = pd.MultiIndex.from_tuples(tuples, names=[\"first\", \"second\"])\n",
    "index"
   ]
  },
  {
   "cell_type": "code",
   "execution_count": 3,
   "id": "5c0c6a41-e269-46cd-9c11-a57f2ddfa2e5",
   "metadata": {},
   "outputs": [
    {
     "data": {
      "text/plain": [
       "first  second\n",
       "bar    one      -2.719910\n",
       "       two      -1.859769\n",
       "baz    one      -1.118029\n",
       "       two       1.379101\n",
       "foo    one       0.807918\n",
       "       two       1.044386\n",
       "qux    one      -1.711049\n",
       "       two      -1.057320\n",
       "dtype: float64"
      ]
     },
     "execution_count": 3,
     "metadata": {},
     "output_type": "execute_result"
    }
   ],
   "source": [
    "s = pd.Series(np.random.randn(8), index=index)\n",
    "s"
   ]
  },
  {
   "cell_type": "code",
   "execution_count": 4,
   "id": "f5aaef71-a514-45a0-b187-e21b28607b57",
   "metadata": {},
   "outputs": [
    {
     "data": {
      "text/plain": [
       "MultiIndex([('bar', 'one'),\n",
       "            ('bar', 'two'),\n",
       "            ('baz', 'one'),\n",
       "            ('baz', 'two'),\n",
       "            ('foo', 'one'),\n",
       "            ('foo', 'two'),\n",
       "            ('qux', 'one'),\n",
       "            ('qux', 'two')],\n",
       "           names=['first', 'second'])"
      ]
     },
     "execution_count": 4,
     "metadata": {},
     "output_type": "execute_result"
    }
   ],
   "source": [
    "#When you want every pairing of the elements in two iterables, it can be easier to use the MultiIndex.from_product()\n",
    "iterables = [[\"bar\", \"baz\", \"foo\", \"qux\"], [\"one\", \"two\"]]\n",
    "pd.MultiIndex.from_product(iterables, names=[\"first\", \"second\"])"
   ]
  },
  {
   "cell_type": "code",
   "execution_count": 5,
   "id": "9424cdb9-1c66-4bee-b324-af91c14c3f9a",
   "metadata": {},
   "outputs": [
    {
     "data": {
      "text/plain": [
       "MultiIndex([('bar', 'one'),\n",
       "            ('bar', 'two'),\n",
       "            ('foo', 'one'),\n",
       "            ('foo', 'two')],\n",
       "           names=['first', 'second'])"
      ]
     },
     "execution_count": 5,
     "metadata": {},
     "output_type": "execute_result"
    }
   ],
   "source": [
    "#You can also construct a MultiIndex from a DataFrame directly, using the method MultiIndex.from_frame().\n",
    "df = pd.DataFrame(\n",
    "    [[\"bar\", \"one\"], [\"bar\", \"two\"], [\"foo\", \"one\"], [\"foo\", \"two\"]],\n",
    "    columns=[\"first\", \"second\"],\n",
    ")\n",
    "pd.MultiIndex.from_frame(df)"
   ]
  },
  {
   "cell_type": "code",
   "execution_count": 6,
   "id": "e51440e5-779d-4a51-834e-2e8559dc39a2",
   "metadata": {},
   "outputs": [
    {
     "data": {
      "text/plain": [
       "bar  one   -0.315212\n",
       "     two    0.047971\n",
       "baz  one   -0.086912\n",
       "     two   -2.148841\n",
       "foo  one    0.156513\n",
       "     two   -0.435359\n",
       "qux  one   -0.287731\n",
       "     two   -0.281379\n",
       "dtype: float64"
      ]
     },
     "execution_count": 6,
     "metadata": {},
     "output_type": "execute_result"
    }
   ],
   "source": [
    "#As a convenience, you can pass a list of arrays directly into Series or DataFrame to construct a MultiIndex automatically:\n",
    "arrays = [\n",
    "    np.array([\"bar\", \"bar\", \"baz\", \"baz\", \"foo\", \"foo\", \"qux\", \"qux\"]),\n",
    "    np.array([\"one\", \"two\", \"one\", \"two\", \"one\", \"two\", \"one\", \"two\"]),]\n",
    "s = pd.Series(np.random.randn(8), index=arrays)\n",
    "s"
   ]
  },
  {
   "cell_type": "code",
   "execution_count": 7,
   "id": "e7781ea3-3308-4528-8594-14a5c5490571",
   "metadata": {},
   "outputs": [
    {
     "data": {
      "text/html": [
       "<div>\n",
       "<style scoped>\n",
       "    .dataframe tbody tr th:only-of-type {\n",
       "        vertical-align: middle;\n",
       "    }\n",
       "\n",
       "    .dataframe tbody tr th {\n",
       "        vertical-align: top;\n",
       "    }\n",
       "\n",
       "    .dataframe thead th {\n",
       "        text-align: right;\n",
       "    }\n",
       "</style>\n",
       "<table border=\"1\" class=\"dataframe\">\n",
       "  <thead>\n",
       "    <tr style=\"text-align: right;\">\n",
       "      <th></th>\n",
       "      <th></th>\n",
       "      <th>0</th>\n",
       "      <th>1</th>\n",
       "      <th>2</th>\n",
       "      <th>3</th>\n",
       "    </tr>\n",
       "  </thead>\n",
       "  <tbody>\n",
       "    <tr>\n",
       "      <th rowspan=\"2\" valign=\"top\">bar</th>\n",
       "      <th>one</th>\n",
       "      <td>0.412943</td>\n",
       "      <td>0.536926</td>\n",
       "      <td>-0.975830</td>\n",
       "      <td>-0.139330</td>\n",
       "    </tr>\n",
       "    <tr>\n",
       "      <th>two</th>\n",
       "      <td>-0.277639</td>\n",
       "      <td>0.205495</td>\n",
       "      <td>2.323194</td>\n",
       "      <td>0.317628</td>\n",
       "    </tr>\n",
       "    <tr>\n",
       "      <th rowspan=\"2\" valign=\"top\">baz</th>\n",
       "      <th>one</th>\n",
       "      <td>1.136131</td>\n",
       "      <td>-0.668041</td>\n",
       "      <td>-0.502565</td>\n",
       "      <td>-0.363479</td>\n",
       "    </tr>\n",
       "    <tr>\n",
       "      <th>two</th>\n",
       "      <td>0.849945</td>\n",
       "      <td>0.676178</td>\n",
       "      <td>-0.572154</td>\n",
       "      <td>-0.576849</td>\n",
       "    </tr>\n",
       "    <tr>\n",
       "      <th rowspan=\"2\" valign=\"top\">foo</th>\n",
       "      <th>one</th>\n",
       "      <td>0.065320</td>\n",
       "      <td>0.808466</td>\n",
       "      <td>0.507917</td>\n",
       "      <td>1.339993</td>\n",
       "    </tr>\n",
       "    <tr>\n",
       "      <th>two</th>\n",
       "      <td>-0.065661</td>\n",
       "      <td>-1.334241</td>\n",
       "      <td>-0.071549</td>\n",
       "      <td>-0.906887</td>\n",
       "    </tr>\n",
       "    <tr>\n",
       "      <th rowspan=\"2\" valign=\"top\">qux</th>\n",
       "      <th>one</th>\n",
       "      <td>0.447648</td>\n",
       "      <td>1.922669</td>\n",
       "      <td>0.565448</td>\n",
       "      <td>-0.318618</td>\n",
       "    </tr>\n",
       "    <tr>\n",
       "      <th>two</th>\n",
       "      <td>1.121978</td>\n",
       "      <td>0.935693</td>\n",
       "      <td>0.485518</td>\n",
       "      <td>-1.063750</td>\n",
       "    </tr>\n",
       "  </tbody>\n",
       "</table>\n",
       "</div>"
      ],
      "text/plain": [
       "                0         1         2         3\n",
       "bar one  0.412943  0.536926 -0.975830 -0.139330\n",
       "    two -0.277639  0.205495  2.323194  0.317628\n",
       "baz one  1.136131 -0.668041 -0.502565 -0.363479\n",
       "    two  0.849945  0.676178 -0.572154 -0.576849\n",
       "foo one  0.065320  0.808466  0.507917  1.339993\n",
       "    two -0.065661 -1.334241 -0.071549 -0.906887\n",
       "qux one  0.447648  1.922669  0.565448 -0.318618\n",
       "    two  1.121978  0.935693  0.485518 -1.063750"
      ]
     },
     "execution_count": 7,
     "metadata": {},
     "output_type": "execute_result"
    }
   ],
   "source": [
    "df = pd.DataFrame(np.random.randn(8, 4), index=arrays)\n",
    "df"
   ]
  },
  {
   "cell_type": "code",
   "execution_count": 8,
   "id": "fc699857-9c3c-4412-bf18-dee2c09bdef8",
   "metadata": {},
   "outputs": [
    {
     "data": {
      "text/html": [
       "<div>\n",
       "<style scoped>\n",
       "    .dataframe tbody tr th:only-of-type {\n",
       "        vertical-align: middle;\n",
       "    }\n",
       "\n",
       "    .dataframe tbody tr th {\n",
       "        vertical-align: top;\n",
       "    }\n",
       "\n",
       "    .dataframe thead tr th {\n",
       "        text-align: left;\n",
       "    }\n",
       "</style>\n",
       "<table border=\"1\" class=\"dataframe\">\n",
       "  <thead>\n",
       "    <tr>\n",
       "      <th>first</th>\n",
       "      <th colspan=\"2\" halign=\"left\">bar</th>\n",
       "      <th colspan=\"2\" halign=\"left\">baz</th>\n",
       "      <th colspan=\"2\" halign=\"left\">foo</th>\n",
       "      <th colspan=\"2\" halign=\"left\">qux</th>\n",
       "    </tr>\n",
       "    <tr>\n",
       "      <th>second</th>\n",
       "      <th>one</th>\n",
       "      <th>two</th>\n",
       "      <th>one</th>\n",
       "      <th>two</th>\n",
       "      <th>one</th>\n",
       "      <th>two</th>\n",
       "      <th>one</th>\n",
       "      <th>two</th>\n",
       "    </tr>\n",
       "  </thead>\n",
       "  <tbody>\n",
       "    <tr>\n",
       "      <th>A</th>\n",
       "      <td>0.692152</td>\n",
       "      <td>0.290527</td>\n",
       "      <td>-1.984037</td>\n",
       "      <td>0.240805</td>\n",
       "      <td>0.210255</td>\n",
       "      <td>1.110364</td>\n",
       "      <td>0.383845</td>\n",
       "      <td>-0.044952</td>\n",
       "    </tr>\n",
       "    <tr>\n",
       "      <th>B</th>\n",
       "      <td>0.732662</td>\n",
       "      <td>1.949945</td>\n",
       "      <td>1.869382</td>\n",
       "      <td>-3.058598</td>\n",
       "      <td>0.511609</td>\n",
       "      <td>-1.212379</td>\n",
       "      <td>-0.813514</td>\n",
       "      <td>-0.282848</td>\n",
       "    </tr>\n",
       "    <tr>\n",
       "      <th>C</th>\n",
       "      <td>0.107861</td>\n",
       "      <td>1.272182</td>\n",
       "      <td>-0.199721</td>\n",
       "      <td>1.391029</td>\n",
       "      <td>-0.702901</td>\n",
       "      <td>1.573196</td>\n",
       "      <td>2.162615</td>\n",
       "      <td>1.845507</td>\n",
       "    </tr>\n",
       "  </tbody>\n",
       "</table>\n",
       "</div>"
      ],
      "text/plain": [
       "first        bar                 baz                 foo                 qux  \\\n",
       "second       one       two       one       two       one       two       one   \n",
       "A       0.692152  0.290527 -1.984037  0.240805  0.210255  1.110364  0.383845   \n",
       "B       0.732662  1.949945  1.869382 -3.058598  0.511609 -1.212379 -0.813514   \n",
       "C       0.107861  1.272182 -0.199721  1.391029 -0.702901  1.573196  2.162615   \n",
       "\n",
       "first             \n",
       "second       two  \n",
       "A      -0.044952  \n",
       "B      -0.282848  \n",
       "C       1.845507  "
      ]
     },
     "execution_count": 8,
     "metadata": {},
     "output_type": "execute_result"
    }
   ],
   "source": [
    "df = pd.DataFrame(np.random.randn(3, 8), index=[\"A\", \"B\", \"C\"], columns=index)\n",
    "df"
   ]
  },
  {
   "cell_type": "code",
   "execution_count": 9,
   "id": "7390fa5a-38c2-4188-b99d-ec04eeac0c10",
   "metadata": {},
   "outputs": [
    {
     "data": {
      "text/html": [
       "<div>\n",
       "<style scoped>\n",
       "    .dataframe tbody tr th:only-of-type {\n",
       "        vertical-align: middle;\n",
       "    }\n",
       "\n",
       "    .dataframe tbody tr th {\n",
       "        vertical-align: top;\n",
       "    }\n",
       "\n",
       "    .dataframe thead tr th {\n",
       "        text-align: left;\n",
       "    }\n",
       "\n",
       "    .dataframe thead tr:last-of-type th {\n",
       "        text-align: right;\n",
       "    }\n",
       "</style>\n",
       "<table border=\"1\" class=\"dataframe\">\n",
       "  <thead>\n",
       "    <tr>\n",
       "      <th></th>\n",
       "      <th>first</th>\n",
       "      <th colspan=\"2\" halign=\"left\">bar</th>\n",
       "      <th colspan=\"2\" halign=\"left\">baz</th>\n",
       "      <th colspan=\"2\" halign=\"left\">foo</th>\n",
       "    </tr>\n",
       "    <tr>\n",
       "      <th></th>\n",
       "      <th>second</th>\n",
       "      <th>one</th>\n",
       "      <th>two</th>\n",
       "      <th>one</th>\n",
       "      <th>two</th>\n",
       "      <th>one</th>\n",
       "      <th>two</th>\n",
       "    </tr>\n",
       "    <tr>\n",
       "      <th>first</th>\n",
       "      <th>second</th>\n",
       "      <th></th>\n",
       "      <th></th>\n",
       "      <th></th>\n",
       "      <th></th>\n",
       "      <th></th>\n",
       "      <th></th>\n",
       "    </tr>\n",
       "  </thead>\n",
       "  <tbody>\n",
       "    <tr>\n",
       "      <th rowspan=\"2\" valign=\"top\">bar</th>\n",
       "      <th>one</th>\n",
       "      <td>-0.810739</td>\n",
       "      <td>-0.517742</td>\n",
       "      <td>-0.997263</td>\n",
       "      <td>1.089660</td>\n",
       "      <td>-1.266715</td>\n",
       "      <td>0.131574</td>\n",
       "    </tr>\n",
       "    <tr>\n",
       "      <th>two</th>\n",
       "      <td>2.420003</td>\n",
       "      <td>-1.134069</td>\n",
       "      <td>-0.332066</td>\n",
       "      <td>-2.016341</td>\n",
       "      <td>0.720045</td>\n",
       "      <td>-0.615752</td>\n",
       "    </tr>\n",
       "    <tr>\n",
       "      <th rowspan=\"2\" valign=\"top\">baz</th>\n",
       "      <th>one</th>\n",
       "      <td>-0.946585</td>\n",
       "      <td>0.005978</td>\n",
       "      <td>-1.123434</td>\n",
       "      <td>0.122828</td>\n",
       "      <td>-0.522362</td>\n",
       "      <td>0.332719</td>\n",
       "    </tr>\n",
       "    <tr>\n",
       "      <th>two</th>\n",
       "      <td>0.009221</td>\n",
       "      <td>1.518227</td>\n",
       "      <td>-1.448371</td>\n",
       "      <td>-0.917917</td>\n",
       "      <td>-0.904250</td>\n",
       "      <td>0.112943</td>\n",
       "    </tr>\n",
       "    <tr>\n",
       "      <th rowspan=\"2\" valign=\"top\">foo</th>\n",
       "      <th>one</th>\n",
       "      <td>1.718198</td>\n",
       "      <td>-1.223559</td>\n",
       "      <td>-1.406164</td>\n",
       "      <td>-0.626821</td>\n",
       "      <td>0.436566</td>\n",
       "      <td>0.066895</td>\n",
       "    </tr>\n",
       "    <tr>\n",
       "      <th>two</th>\n",
       "      <td>0.408151</td>\n",
       "      <td>1.334246</td>\n",
       "      <td>0.677122</td>\n",
       "      <td>0.106622</td>\n",
       "      <td>0.104554</td>\n",
       "      <td>-1.025869</td>\n",
       "    </tr>\n",
       "  </tbody>\n",
       "</table>\n",
       "</div>"
      ],
      "text/plain": [
       "first              bar                 baz                 foo          \n",
       "second             one       two       one       two       one       two\n",
       "first second                                                            \n",
       "bar   one    -0.810739 -0.517742 -0.997263  1.089660 -1.266715  0.131574\n",
       "      two     2.420003 -1.134069 -0.332066 -2.016341  0.720045 -0.615752\n",
       "baz   one    -0.946585  0.005978 -1.123434  0.122828 -0.522362  0.332719\n",
       "      two     0.009221  1.518227 -1.448371 -0.917917 -0.904250  0.112943\n",
       "foo   one     1.718198 -1.223559 -1.406164 -0.626821  0.436566  0.066895\n",
       "      two     0.408151  1.334246  0.677122  0.106622  0.104554 -1.025869"
      ]
     },
     "execution_count": 9,
     "metadata": {},
     "output_type": "execute_result"
    }
   ],
   "source": [
    "pd.DataFrame(np.random.randn(6, 6), index=index[:6], columns=index[:6])"
   ]
  },
  {
   "cell_type": "code",
   "execution_count": 10,
   "id": "5defb151-a822-43ae-acd5-baf6c8029cb9",
   "metadata": {},
   "outputs": [
    {
     "data": {
      "text/html": [
       "<div>\n",
       "<style scoped>\n",
       "    .dataframe tbody tr th:only-of-type {\n",
       "        vertical-align: middle;\n",
       "    }\n",
       "\n",
       "    .dataframe tbody tr th {\n",
       "        vertical-align: top;\n",
       "    }\n",
       "\n",
       "    .dataframe thead th {\n",
       "        text-align: right;\n",
       "    }\n",
       "</style>\n",
       "<table border=\"1\" class=\"dataframe\">\n",
       "  <thead>\n",
       "    <tr style=\"text-align: right;\">\n",
       "      <th>second</th>\n",
       "      <th>one</th>\n",
       "      <th>two</th>\n",
       "    </tr>\n",
       "  </thead>\n",
       "  <tbody>\n",
       "    <tr>\n",
       "      <th>A</th>\n",
       "      <td>0.692152</td>\n",
       "      <td>0.290527</td>\n",
       "    </tr>\n",
       "    <tr>\n",
       "      <th>B</th>\n",
       "      <td>0.732662</td>\n",
       "      <td>1.949945</td>\n",
       "    </tr>\n",
       "    <tr>\n",
       "      <th>C</th>\n",
       "      <td>0.107861</td>\n",
       "      <td>1.272182</td>\n",
       "    </tr>\n",
       "  </tbody>\n",
       "</table>\n",
       "</div>"
      ],
      "text/plain": [
       "second       one       two\n",
       "A       0.692152  0.290527\n",
       "B       0.732662  1.949945\n",
       "C       0.107861  1.272182"
      ]
     },
     "execution_count": 10,
     "metadata": {},
     "output_type": "execute_result"
    }
   ],
   "source": [
    "#Basic indexing on axis with MultiIndex\n",
    "df['bar']"
   ]
  },
  {
   "cell_type": "code",
   "execution_count": 11,
   "id": "1ea3fdac-cd28-4e32-b11b-ba3c45c8c8a7",
   "metadata": {},
   "outputs": [
    {
     "data": {
      "text/plain": [
       "A    0.692152\n",
       "B    0.732662\n",
       "C    0.107861\n",
       "Name: (bar, one), dtype: float64"
      ]
     },
     "execution_count": 11,
     "metadata": {},
     "output_type": "execute_result"
    }
   ],
   "source": [
    "df['bar','one']"
   ]
  },
  {
   "cell_type": "code",
   "execution_count": 12,
   "id": "eb6b10e3-7d73-4366-8689-62c9e453ca7d",
   "metadata": {},
   "outputs": [
    {
     "data": {
      "text/plain": [
       "one   -0.287731\n",
       "two   -0.281379\n",
       "dtype: float64"
      ]
     },
     "execution_count": 12,
     "metadata": {},
     "output_type": "execute_result"
    }
   ],
   "source": [
    "s['qux']"
   ]
  },
  {
   "cell_type": "code",
   "execution_count": 13,
   "id": "6da45e31-977d-4d00-a5cb-204714a5b177",
   "metadata": {},
   "outputs": [
    {
     "data": {
      "text/plain": [
       "bar  one   -0.630424\n",
       "     two    0.095942\n",
       "baz  one   -0.173825\n",
       "     two   -4.297682\n",
       "foo  one    0.313027\n",
       "     two   -0.870719\n",
       "qux  one         NaN\n",
       "     two         NaN\n",
       "dtype: float64"
      ]
     },
     "execution_count": 13,
     "metadata": {},
     "output_type": "execute_result"
    }
   ],
   "source": [
    "#Data alignment and using reindex\n",
    "s + s[:-2]"
   ]
  },
  {
   "cell_type": "code",
   "execution_count": 14,
   "id": "f6176140-ddd6-4e20-9a1f-c78190770c53",
   "metadata": {},
   "outputs": [
    {
     "data": {
      "text/plain": [
       "bar  one   -0.630424\n",
       "     two         NaN\n",
       "baz  one   -0.173825\n",
       "     two         NaN\n",
       "foo  one    0.313027\n",
       "     two         NaN\n",
       "qux  one   -0.575461\n",
       "     two         NaN\n",
       "dtype: float64"
      ]
     },
     "execution_count": 14,
     "metadata": {},
     "output_type": "execute_result"
    }
   ],
   "source": [
    "s + s[::2]"
   ]
  },
  {
   "cell_type": "code",
   "execution_count": 15,
   "id": "3e4858c1-cfe2-4f68-af00-e259bb80b21d",
   "metadata": {},
   "outputs": [
    {
     "data": {
      "text/plain": [
       "first  second\n",
       "bar    one      -0.315212\n",
       "       two       0.047971\n",
       "baz    one      -0.086912\n",
       "dtype: float64"
      ]
     },
     "execution_count": 15,
     "metadata": {},
     "output_type": "execute_result"
    }
   ],
   "source": [
    "s.reindex(index[:3])"
   ]
  },
  {
   "cell_type": "code",
   "execution_count": 16,
   "id": "de182a47-00de-498c-94fd-1f71565728cb",
   "metadata": {},
   "outputs": [
    {
     "data": {
      "text/plain": [
       "foo  two   -0.435359\n",
       "bar  one   -0.315212\n",
       "qux  one   -0.287731\n",
       "baz  one   -0.086912\n",
       "dtype: float64"
      ]
     },
     "execution_count": 16,
     "metadata": {},
     "output_type": "execute_result"
    }
   ],
   "source": [
    "s.reindex([(\"foo\", \"two\"), (\"bar\", \"one\"), (\"qux\", \"one\"), (\"baz\", \"one\")])"
   ]
  },
  {
   "cell_type": "code",
   "execution_count": 18,
   "id": "bc7b6564-28f6-418c-a781-be5f8ffa1bb0",
   "metadata": {},
   "outputs": [
    {
     "data": {
      "text/html": [
       "<div>\n",
       "<style scoped>\n",
       "    .dataframe tbody tr th:only-of-type {\n",
       "        vertical-align: middle;\n",
       "    }\n",
       "\n",
       "    .dataframe tbody tr th {\n",
       "        vertical-align: top;\n",
       "    }\n",
       "\n",
       "    .dataframe thead th {\n",
       "        text-align: right;\n",
       "    }\n",
       "</style>\n",
       "<table border=\"1\" class=\"dataframe\">\n",
       "  <thead>\n",
       "    <tr style=\"text-align: right;\">\n",
       "      <th></th>\n",
       "      <th></th>\n",
       "      <th>A</th>\n",
       "      <th>B</th>\n",
       "      <th>C</th>\n",
       "    </tr>\n",
       "    <tr>\n",
       "      <th>first</th>\n",
       "      <th>second</th>\n",
       "      <th></th>\n",
       "      <th></th>\n",
       "      <th></th>\n",
       "    </tr>\n",
       "  </thead>\n",
       "  <tbody>\n",
       "    <tr>\n",
       "      <th rowspan=\"2\" valign=\"top\">bar</th>\n",
       "      <th>one</th>\n",
       "      <td>0.692152</td>\n",
       "      <td>0.732662</td>\n",
       "      <td>0.107861</td>\n",
       "    </tr>\n",
       "    <tr>\n",
       "      <th>two</th>\n",
       "      <td>0.290527</td>\n",
       "      <td>1.949945</td>\n",
       "      <td>1.272182</td>\n",
       "    </tr>\n",
       "    <tr>\n",
       "      <th rowspan=\"2\" valign=\"top\">baz</th>\n",
       "      <th>one</th>\n",
       "      <td>-1.984037</td>\n",
       "      <td>1.869382</td>\n",
       "      <td>-0.199721</td>\n",
       "    </tr>\n",
       "    <tr>\n",
       "      <th>two</th>\n",
       "      <td>0.240805</td>\n",
       "      <td>-3.058598</td>\n",
       "      <td>1.391029</td>\n",
       "    </tr>\n",
       "    <tr>\n",
       "      <th rowspan=\"2\" valign=\"top\">foo</th>\n",
       "      <th>one</th>\n",
       "      <td>0.210255</td>\n",
       "      <td>0.511609</td>\n",
       "      <td>-0.702901</td>\n",
       "    </tr>\n",
       "    <tr>\n",
       "      <th>two</th>\n",
       "      <td>1.110364</td>\n",
       "      <td>-1.212379</td>\n",
       "      <td>1.573196</td>\n",
       "    </tr>\n",
       "    <tr>\n",
       "      <th rowspan=\"2\" valign=\"top\">qux</th>\n",
       "      <th>one</th>\n",
       "      <td>0.383845</td>\n",
       "      <td>-0.813514</td>\n",
       "      <td>2.162615</td>\n",
       "    </tr>\n",
       "    <tr>\n",
       "      <th>two</th>\n",
       "      <td>-0.044952</td>\n",
       "      <td>-0.282848</td>\n",
       "      <td>1.845507</td>\n",
       "    </tr>\n",
       "  </tbody>\n",
       "</table>\n",
       "</div>"
      ],
      "text/plain": [
       "                     A         B         C\n",
       "first second                              \n",
       "bar   one     0.692152  0.732662  0.107861\n",
       "      two     0.290527  1.949945  1.272182\n",
       "baz   one    -1.984037  1.869382 -0.199721\n",
       "      two     0.240805 -3.058598  1.391029\n",
       "foo   one     0.210255  0.511609 -0.702901\n",
       "      two     1.110364 -1.212379  1.573196\n",
       "qux   one     0.383845 -0.813514  2.162615\n",
       "      two    -0.044952 -0.282848  1.845507"
      ]
     },
     "execution_count": 18,
     "metadata": {},
     "output_type": "execute_result"
    }
   ],
   "source": [
    "#Advanced indexing with hierarchical index\n",
    "df = df.T\n",
    "df"
   ]
  },
  {
   "cell_type": "code",
   "execution_count": 19,
   "id": "046cc59d-87d5-44b2-bcd2-7c5c07b379ff",
   "metadata": {},
   "outputs": [
    {
     "data": {
      "text/plain": [
       "np.float64(0.29052726368226245)"
      ]
     },
     "execution_count": 19,
     "metadata": {},
     "output_type": "execute_result"
    }
   ],
   "source": [
    "df.loc[(\"bar\", \"two\"), \"A\"]"
   ]
  },
  {
   "cell_type": "code",
   "execution_count": 20,
   "id": "36801054-7720-4757-8feb-cf1618b257b7",
   "metadata": {},
   "outputs": [
    {
     "data": {
      "text/html": [
       "<div>\n",
       "<style scoped>\n",
       "    .dataframe tbody tr th:only-of-type {\n",
       "        vertical-align: middle;\n",
       "    }\n",
       "\n",
       "    .dataframe tbody tr th {\n",
       "        vertical-align: top;\n",
       "    }\n",
       "\n",
       "    .dataframe thead th {\n",
       "        text-align: right;\n",
       "    }\n",
       "</style>\n",
       "<table border=\"1\" class=\"dataframe\">\n",
       "  <thead>\n",
       "    <tr style=\"text-align: right;\">\n",
       "      <th></th>\n",
       "      <th>A</th>\n",
       "      <th>B</th>\n",
       "      <th>C</th>\n",
       "    </tr>\n",
       "    <tr>\n",
       "      <th>second</th>\n",
       "      <th></th>\n",
       "      <th></th>\n",
       "      <th></th>\n",
       "    </tr>\n",
       "  </thead>\n",
       "  <tbody>\n",
       "    <tr>\n",
       "      <th>one</th>\n",
       "      <td>0.692152</td>\n",
       "      <td>0.732662</td>\n",
       "      <td>0.107861</td>\n",
       "    </tr>\n",
       "    <tr>\n",
       "      <th>two</th>\n",
       "      <td>0.290527</td>\n",
       "      <td>1.949945</td>\n",
       "      <td>1.272182</td>\n",
       "    </tr>\n",
       "  </tbody>\n",
       "</table>\n",
       "</div>"
      ],
      "text/plain": [
       "               A         B         C\n",
       "second                              \n",
       "one     0.692152  0.732662  0.107861\n",
       "two     0.290527  1.949945  1.272182"
      ]
     },
     "execution_count": 20,
     "metadata": {},
     "output_type": "execute_result"
    }
   ],
   "source": [
    "df.loc['bar']"
   ]
  },
  {
   "cell_type": "code",
   "execution_count": 21,
   "id": "48f4092d-fb1b-4ddf-a6f3-543aa188fc4c",
   "metadata": {},
   "outputs": [
    {
     "data": {
      "text/html": [
       "<div>\n",
       "<style scoped>\n",
       "    .dataframe tbody tr th:only-of-type {\n",
       "        vertical-align: middle;\n",
       "    }\n",
       "\n",
       "    .dataframe tbody tr th {\n",
       "        vertical-align: top;\n",
       "    }\n",
       "\n",
       "    .dataframe thead th {\n",
       "        text-align: right;\n",
       "    }\n",
       "</style>\n",
       "<table border=\"1\" class=\"dataframe\">\n",
       "  <thead>\n",
       "    <tr style=\"text-align: right;\">\n",
       "      <th></th>\n",
       "      <th></th>\n",
       "      <th>A</th>\n",
       "      <th>B</th>\n",
       "      <th>C</th>\n",
       "    </tr>\n",
       "    <tr>\n",
       "      <th>first</th>\n",
       "      <th>second</th>\n",
       "      <th></th>\n",
       "      <th></th>\n",
       "      <th></th>\n",
       "    </tr>\n",
       "  </thead>\n",
       "  <tbody>\n",
       "    <tr>\n",
       "      <th>baz</th>\n",
       "      <th>two</th>\n",
       "      <td>0.240805</td>\n",
       "      <td>-3.058598</td>\n",
       "      <td>1.391029</td>\n",
       "    </tr>\n",
       "    <tr>\n",
       "      <th rowspan=\"2\" valign=\"top\">foo</th>\n",
       "      <th>one</th>\n",
       "      <td>0.210255</td>\n",
       "      <td>0.511609</td>\n",
       "      <td>-0.702901</td>\n",
       "    </tr>\n",
       "    <tr>\n",
       "      <th>two</th>\n",
       "      <td>1.110364</td>\n",
       "      <td>-1.212379</td>\n",
       "      <td>1.573196</td>\n",
       "    </tr>\n",
       "    <tr>\n",
       "      <th>qux</th>\n",
       "      <th>one</th>\n",
       "      <td>0.383845</td>\n",
       "      <td>-0.813514</td>\n",
       "      <td>2.162615</td>\n",
       "    </tr>\n",
       "  </tbody>\n",
       "</table>\n",
       "</div>"
      ],
      "text/plain": [
       "                     A         B         C\n",
       "first second                              \n",
       "baz   two     0.240805 -3.058598  1.391029\n",
       "foo   one     0.210255  0.511609 -0.702901\n",
       "      two     1.110364 -1.212379  1.573196\n",
       "qux   one     0.383845 -0.813514  2.162615"
      ]
     },
     "execution_count": 21,
     "metadata": {},
     "output_type": "execute_result"
    }
   ],
   "source": [
    "df.loc[(\"baz\", \"two\"):(\"qux\", \"one\")]"
   ]
  },
  {
   "cell_type": "code",
   "execution_count": 22,
   "id": "1febe1ec-8d98-4fa6-bcc4-f98c3ff6b8a6",
   "metadata": {},
   "outputs": [
    {
     "data": {
      "text/html": [
       "<div>\n",
       "<style scoped>\n",
       "    .dataframe tbody tr th:only-of-type {\n",
       "        vertical-align: middle;\n",
       "    }\n",
       "\n",
       "    .dataframe tbody tr th {\n",
       "        vertical-align: top;\n",
       "    }\n",
       "\n",
       "    .dataframe thead th {\n",
       "        text-align: right;\n",
       "    }\n",
       "</style>\n",
       "<table border=\"1\" class=\"dataframe\">\n",
       "  <thead>\n",
       "    <tr style=\"text-align: right;\">\n",
       "      <th></th>\n",
       "      <th></th>\n",
       "      <th>A</th>\n",
       "      <th>B</th>\n",
       "      <th>C</th>\n",
       "    </tr>\n",
       "    <tr>\n",
       "      <th>first</th>\n",
       "      <th>second</th>\n",
       "      <th></th>\n",
       "      <th></th>\n",
       "      <th></th>\n",
       "    </tr>\n",
       "  </thead>\n",
       "  <tbody>\n",
       "    <tr>\n",
       "      <th>bar</th>\n",
       "      <th>two</th>\n",
       "      <td>0.290527</td>\n",
       "      <td>1.949945</td>\n",
       "      <td>1.272182</td>\n",
       "    </tr>\n",
       "    <tr>\n",
       "      <th>qux</th>\n",
       "      <th>one</th>\n",
       "      <td>0.383845</td>\n",
       "      <td>-0.813514</td>\n",
       "      <td>2.162615</td>\n",
       "    </tr>\n",
       "  </tbody>\n",
       "</table>\n",
       "</div>"
      ],
      "text/plain": [
       "                     A         B         C\n",
       "first second                              \n",
       "bar   two     0.290527  1.949945  1.272182\n",
       "qux   one     0.383845 -0.813514  2.162615"
      ]
     },
     "execution_count": 22,
     "metadata": {},
     "output_type": "execute_result"
    }
   ],
   "source": [
    "df.loc[[('bar','two'), ('qux', 'one')]]"
   ]
  },
  {
   "cell_type": "code",
   "execution_count": null,
   "id": "02fd5687-f0e7-4d0d-97f9-b6c8d4e28c90",
   "metadata": {},
   "outputs": [],
   "source": [
    "#Using slicers\n"
   ]
  }
 ],
 "metadata": {
  "kernelspec": {
   "display_name": "Python 3 (ipykernel)",
   "language": "python",
   "name": "python3"
  },
  "language_info": {
   "codemirror_mode": {
    "name": "ipython",
    "version": 3
   },
   "file_extension": ".py",
   "mimetype": "text/x-python",
   "name": "python",
   "nbconvert_exporter": "python",
   "pygments_lexer": "ipython3",
   "version": "3.13.1"
  }
 },
 "nbformat": 4,
 "nbformat_minor": 5
}
