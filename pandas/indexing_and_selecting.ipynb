{
 "cells": [
  {
   "cell_type": "code",
   "execution_count": 3,
   "id": "c8cab05a-e0d7-4a2b-80b5-2d8d43259fa4",
   "metadata": {},
   "outputs": [
    {
     "data": {
      "text/plain": [
       "a    0\n",
       "c    2\n",
       "e    4\n",
       "dtype: int64"
      ]
     },
     "execution_count": 3,
     "metadata": {},
     "output_type": "execute_result"
    }
   ],
   "source": [
    "import pandas as pd\n",
    "import numpy as np\n",
    "ser = pd.Series(range(5), index=list(\"abcde\"))\n",
    "\n",
    "ser.loc[[\"a\", \"c\", \"e\"]]"
   ]
  },
  {
   "cell_type": "code",
   "execution_count": 4,
   "id": "1c5a3bcf-160f-4ae7-8dfe-592f9a9c676f",
   "metadata": {},
   "outputs": [
    {
     "data": {
      "text/html": [
       "<div>\n",
       "<style scoped>\n",
       "    .dataframe tbody tr th:only-of-type {\n",
       "        vertical-align: middle;\n",
       "    }\n",
       "\n",
       "    .dataframe tbody tr th {\n",
       "        vertical-align: top;\n",
       "    }\n",
       "\n",
       "    .dataframe thead th {\n",
       "        text-align: right;\n",
       "    }\n",
       "</style>\n",
       "<table border=\"1\" class=\"dataframe\">\n",
       "  <thead>\n",
       "    <tr style=\"text-align: right;\">\n",
       "      <th></th>\n",
       "      <th>b</th>\n",
       "      <th>d</th>\n",
       "    </tr>\n",
       "  </thead>\n",
       "  <tbody>\n",
       "    <tr>\n",
       "      <th>a</th>\n",
       "      <td>1</td>\n",
       "      <td>3</td>\n",
       "    </tr>\n",
       "    <tr>\n",
       "      <th>c</th>\n",
       "      <td>11</td>\n",
       "      <td>13</td>\n",
       "    </tr>\n",
       "    <tr>\n",
       "      <th>e</th>\n",
       "      <td>21</td>\n",
       "      <td>23</td>\n",
       "    </tr>\n",
       "  </tbody>\n",
       "</table>\n",
       "</div>"
      ],
      "text/plain": [
       "    b   d\n",
       "a   1   3\n",
       "c  11  13\n",
       "e  21  23"
      ]
     },
     "execution_count": 4,
     "metadata": {},
     "output_type": "execute_result"
    }
   ],
   "source": [
    "df = pd.DataFrame(np.arange(25).reshape(5, 5), index=list(\"abcde\"), columns=list(\"abcde\"))\n",
    "\n",
    "df.loc[[\"a\", \"c\", \"e\"], [\"b\", \"d\"]]"
   ]
  },
  {
   "cell_type": "code",
   "execution_count": 5,
   "id": "818e7bb0-5fe0-4678-9330-7c623e302488",
   "metadata": {},
   "outputs": [
    {
     "data": {
      "text/html": [
       "<div>\n",
       "<style scoped>\n",
       "    .dataframe tbody tr th:only-of-type {\n",
       "        vertical-align: middle;\n",
       "    }\n",
       "\n",
       "    .dataframe tbody tr th {\n",
       "        vertical-align: top;\n",
       "    }\n",
       "\n",
       "    .dataframe thead th {\n",
       "        text-align: right;\n",
       "    }\n",
       "</style>\n",
       "<table border=\"1\" class=\"dataframe\">\n",
       "  <thead>\n",
       "    <tr style=\"text-align: right;\">\n",
       "      <th></th>\n",
       "      <th>A</th>\n",
       "      <th>B</th>\n",
       "      <th>C</th>\n",
       "      <th>D</th>\n",
       "    </tr>\n",
       "  </thead>\n",
       "  <tbody>\n",
       "    <tr>\n",
       "      <th>2000-01-01</th>\n",
       "      <td>1.132111</td>\n",
       "      <td>0.216028</td>\n",
       "      <td>-0.258779</td>\n",
       "      <td>-1.326615</td>\n",
       "    </tr>\n",
       "    <tr>\n",
       "      <th>2000-01-02</th>\n",
       "      <td>0.973002</td>\n",
       "      <td>0.132385</td>\n",
       "      <td>0.342037</td>\n",
       "      <td>-0.381959</td>\n",
       "    </tr>\n",
       "    <tr>\n",
       "      <th>2000-01-03</th>\n",
       "      <td>0.801076</td>\n",
       "      <td>0.757544</td>\n",
       "      <td>0.503245</td>\n",
       "      <td>1.382299</td>\n",
       "    </tr>\n",
       "    <tr>\n",
       "      <th>2000-01-04</th>\n",
       "      <td>0.468528</td>\n",
       "      <td>-0.264747</td>\n",
       "      <td>-0.955206</td>\n",
       "      <td>-0.389600</td>\n",
       "    </tr>\n",
       "    <tr>\n",
       "      <th>2000-01-05</th>\n",
       "      <td>-1.025089</td>\n",
       "      <td>-0.141848</td>\n",
       "      <td>0.061516</td>\n",
       "      <td>0.889755</td>\n",
       "    </tr>\n",
       "    <tr>\n",
       "      <th>2000-01-06</th>\n",
       "      <td>1.481526</td>\n",
       "      <td>0.894528</td>\n",
       "      <td>-0.208869</td>\n",
       "      <td>0.990464</td>\n",
       "    </tr>\n",
       "    <tr>\n",
       "      <th>2000-01-07</th>\n",
       "      <td>0.195501</td>\n",
       "      <td>2.476471</td>\n",
       "      <td>1.111473</td>\n",
       "      <td>0.559722</td>\n",
       "    </tr>\n",
       "    <tr>\n",
       "      <th>2000-01-08</th>\n",
       "      <td>0.968728</td>\n",
       "      <td>-0.898972</td>\n",
       "      <td>-1.441357</td>\n",
       "      <td>0.055617</td>\n",
       "    </tr>\n",
       "  </tbody>\n",
       "</table>\n",
       "</div>"
      ],
      "text/plain": [
       "                   A         B         C         D\n",
       "2000-01-01  1.132111  0.216028 -0.258779 -1.326615\n",
       "2000-01-02  0.973002  0.132385  0.342037 -0.381959\n",
       "2000-01-03  0.801076  0.757544  0.503245  1.382299\n",
       "2000-01-04  0.468528 -0.264747 -0.955206 -0.389600\n",
       "2000-01-05 -1.025089 -0.141848  0.061516  0.889755\n",
       "2000-01-06  1.481526  0.894528 -0.208869  0.990464\n",
       "2000-01-07  0.195501  2.476471  1.111473  0.559722\n",
       "2000-01-08  0.968728 -0.898972 -1.441357  0.055617"
      ]
     },
     "execution_count": 5,
     "metadata": {},
     "output_type": "execute_result"
    }
   ],
   "source": [
    "dates = pd.date_range('1/1/2000', periods=8)\n",
    "\n",
    "df = pd.DataFrame(np.random.randn(8, 4),\n",
    "                  index=dates, columns=['A', 'B', 'C', 'D'])\n",
    "\n",
    "df"
   ]
  },
  {
   "cell_type": "code",
   "execution_count": 6,
   "id": "941f5fdb-2469-457a-b416-720bd26e1222",
   "metadata": {},
   "outputs": [
    {
     "data": {
      "text/plain": [
       "np.float64(1.4815261993059112)"
      ]
     },
     "execution_count": 6,
     "metadata": {},
     "output_type": "execute_result"
    }
   ],
   "source": [
    "s = df['A']\n",
    "\n",
    "s[dates[5]]"
   ]
  },
  {
   "cell_type": "code",
   "execution_count": 7,
   "id": "9a066280-0e25-457a-bf4b-b5f0e545d426",
   "metadata": {},
   "outputs": [
    {
     "data": {
      "text/html": [
       "<div>\n",
       "<style scoped>\n",
       "    .dataframe tbody tr th:only-of-type {\n",
       "        vertical-align: middle;\n",
       "    }\n",
       "\n",
       "    .dataframe tbody tr th {\n",
       "        vertical-align: top;\n",
       "    }\n",
       "\n",
       "    .dataframe thead th {\n",
       "        text-align: right;\n",
       "    }\n",
       "</style>\n",
       "<table border=\"1\" class=\"dataframe\">\n",
       "  <thead>\n",
       "    <tr style=\"text-align: right;\">\n",
       "      <th></th>\n",
       "      <th>A</th>\n",
       "      <th>B</th>\n",
       "      <th>C</th>\n",
       "      <th>D</th>\n",
       "    </tr>\n",
       "  </thead>\n",
       "  <tbody>\n",
       "    <tr>\n",
       "      <th>2000-01-01</th>\n",
       "      <td>0.216028</td>\n",
       "      <td>1.132111</td>\n",
       "      <td>-0.258779</td>\n",
       "      <td>-1.326615</td>\n",
       "    </tr>\n",
       "    <tr>\n",
       "      <th>2000-01-02</th>\n",
       "      <td>0.132385</td>\n",
       "      <td>0.973002</td>\n",
       "      <td>0.342037</td>\n",
       "      <td>-0.381959</td>\n",
       "    </tr>\n",
       "    <tr>\n",
       "      <th>2000-01-03</th>\n",
       "      <td>0.757544</td>\n",
       "      <td>0.801076</td>\n",
       "      <td>0.503245</td>\n",
       "      <td>1.382299</td>\n",
       "    </tr>\n",
       "    <tr>\n",
       "      <th>2000-01-04</th>\n",
       "      <td>-0.264747</td>\n",
       "      <td>0.468528</td>\n",
       "      <td>-0.955206</td>\n",
       "      <td>-0.389600</td>\n",
       "    </tr>\n",
       "    <tr>\n",
       "      <th>2000-01-05</th>\n",
       "      <td>-0.141848</td>\n",
       "      <td>-1.025089</td>\n",
       "      <td>0.061516</td>\n",
       "      <td>0.889755</td>\n",
       "    </tr>\n",
       "    <tr>\n",
       "      <th>2000-01-06</th>\n",
       "      <td>0.894528</td>\n",
       "      <td>1.481526</td>\n",
       "      <td>-0.208869</td>\n",
       "      <td>0.990464</td>\n",
       "    </tr>\n",
       "    <tr>\n",
       "      <th>2000-01-07</th>\n",
       "      <td>2.476471</td>\n",
       "      <td>0.195501</td>\n",
       "      <td>1.111473</td>\n",
       "      <td>0.559722</td>\n",
       "    </tr>\n",
       "    <tr>\n",
       "      <th>2000-01-08</th>\n",
       "      <td>-0.898972</td>\n",
       "      <td>0.968728</td>\n",
       "      <td>-1.441357</td>\n",
       "      <td>0.055617</td>\n",
       "    </tr>\n",
       "  </tbody>\n",
       "</table>\n",
       "</div>"
      ],
      "text/plain": [
       "                   A         B         C         D\n",
       "2000-01-01  0.216028  1.132111 -0.258779 -1.326615\n",
       "2000-01-02  0.132385  0.973002  0.342037 -0.381959\n",
       "2000-01-03  0.757544  0.801076  0.503245  1.382299\n",
       "2000-01-04 -0.264747  0.468528 -0.955206 -0.389600\n",
       "2000-01-05 -0.141848 -1.025089  0.061516  0.889755\n",
       "2000-01-06  0.894528  1.481526 -0.208869  0.990464\n",
       "2000-01-07  2.476471  0.195501  1.111473  0.559722\n",
       "2000-01-08 -0.898972  0.968728 -1.441357  0.055617"
      ]
     },
     "execution_count": 7,
     "metadata": {},
     "output_type": "execute_result"
    }
   ],
   "source": [
    "df[['B', 'A']] = df[['A', 'B']]\n",
    "\n",
    "df"
   ]
  },
  {
   "cell_type": "code",
   "execution_count": null,
   "id": "1dd62fe4-cfce-4c67-aa80-93e78a90b902",
   "metadata": {},
   "outputs": [],
   "source": []
  }
 ],
 "metadata": {
  "kernelspec": {
   "display_name": "Python 3 (ipykernel)",
   "language": "python",
   "name": "python3"
  },
  "language_info": {
   "codemirror_mode": {
    "name": "ipython",
    "version": 3
   },
   "file_extension": ".py",
   "mimetype": "text/x-python",
   "name": "python",
   "nbconvert_exporter": "python",
   "pygments_lexer": "ipython3",
   "version": "3.13.1"
  }
 },
 "nbformat": 4,
 "nbformat_minor": 5
}
