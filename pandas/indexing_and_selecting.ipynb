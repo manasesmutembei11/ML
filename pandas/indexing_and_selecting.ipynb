{
 "cells": [
  {
   "cell_type": "code",
   "execution_count": 1,
   "id": "c8cab05a-e0d7-4a2b-80b5-2d8d43259fa4",
   "metadata": {},
   "outputs": [
    {
     "data": {
      "text/plain": [
       "a    0\n",
       "c    2\n",
       "e    4\n",
       "dtype: int64"
      ]
     },
     "execution_count": 1,
     "metadata": {},
     "output_type": "execute_result"
    }
   ],
   "source": [
    "import pandas as pd\n",
    "import numpy as np\n",
    "ser = pd.Series(range(5), index=list(\"abcde\"))\n",
    "\n",
    "ser.loc[[\"a\", \"c\", \"e\"]]"
   ]
  },
  {
   "cell_type": "code",
   "execution_count": 2,
   "id": "1c5a3bcf-160f-4ae7-8dfe-592f9a9c676f",
   "metadata": {},
   "outputs": [
    {
     "data": {
      "text/html": [
       "<div>\n",
       "<style scoped>\n",
       "    .dataframe tbody tr th:only-of-type {\n",
       "        vertical-align: middle;\n",
       "    }\n",
       "\n",
       "    .dataframe tbody tr th {\n",
       "        vertical-align: top;\n",
       "    }\n",
       "\n",
       "    .dataframe thead th {\n",
       "        text-align: right;\n",
       "    }\n",
       "</style>\n",
       "<table border=\"1\" class=\"dataframe\">\n",
       "  <thead>\n",
       "    <tr style=\"text-align: right;\">\n",
       "      <th></th>\n",
       "      <th>b</th>\n",
       "      <th>d</th>\n",
       "    </tr>\n",
       "  </thead>\n",
       "  <tbody>\n",
       "    <tr>\n",
       "      <th>a</th>\n",
       "      <td>1</td>\n",
       "      <td>3</td>\n",
       "    </tr>\n",
       "    <tr>\n",
       "      <th>c</th>\n",
       "      <td>11</td>\n",
       "      <td>13</td>\n",
       "    </tr>\n",
       "    <tr>\n",
       "      <th>e</th>\n",
       "      <td>21</td>\n",
       "      <td>23</td>\n",
       "    </tr>\n",
       "  </tbody>\n",
       "</table>\n",
       "</div>"
      ],
      "text/plain": [
       "    b   d\n",
       "a   1   3\n",
       "c  11  13\n",
       "e  21  23"
      ]
     },
     "execution_count": 2,
     "metadata": {},
     "output_type": "execute_result"
    }
   ],
   "source": [
    "df = pd.DataFrame(np.arange(25).reshape(5, 5), index=list(\"abcde\"), columns=list(\"abcde\"))\n",
    "\n",
    "df.loc[[\"a\", \"c\", \"e\"], [\"b\", \"d\"]]"
   ]
  },
  {
   "cell_type": "code",
   "execution_count": 3,
   "id": "818e7bb0-5fe0-4678-9330-7c623e302488",
   "metadata": {},
   "outputs": [
    {
     "data": {
      "text/html": [
       "<div>\n",
       "<style scoped>\n",
       "    .dataframe tbody tr th:only-of-type {\n",
       "        vertical-align: middle;\n",
       "    }\n",
       "\n",
       "    .dataframe tbody tr th {\n",
       "        vertical-align: top;\n",
       "    }\n",
       "\n",
       "    .dataframe thead th {\n",
       "        text-align: right;\n",
       "    }\n",
       "</style>\n",
       "<table border=\"1\" class=\"dataframe\">\n",
       "  <thead>\n",
       "    <tr style=\"text-align: right;\">\n",
       "      <th></th>\n",
       "      <th>A</th>\n",
       "      <th>B</th>\n",
       "      <th>C</th>\n",
       "      <th>D</th>\n",
       "    </tr>\n",
       "  </thead>\n",
       "  <tbody>\n",
       "    <tr>\n",
       "      <th>2000-01-01</th>\n",
       "      <td>1.041917</td>\n",
       "      <td>1.203960</td>\n",
       "      <td>2.233298</td>\n",
       "      <td>-0.276528</td>\n",
       "    </tr>\n",
       "    <tr>\n",
       "      <th>2000-01-02</th>\n",
       "      <td>-1.695957</td>\n",
       "      <td>-2.083071</td>\n",
       "      <td>-0.212644</td>\n",
       "      <td>-0.910953</td>\n",
       "    </tr>\n",
       "    <tr>\n",
       "      <th>2000-01-03</th>\n",
       "      <td>0.855435</td>\n",
       "      <td>1.172846</td>\n",
       "      <td>2.078240</td>\n",
       "      <td>0.609705</td>\n",
       "    </tr>\n",
       "    <tr>\n",
       "      <th>2000-01-04</th>\n",
       "      <td>-0.203120</td>\n",
       "      <td>0.020476</td>\n",
       "      <td>-0.900161</td>\n",
       "      <td>-0.308050</td>\n",
       "    </tr>\n",
       "    <tr>\n",
       "      <th>2000-01-05</th>\n",
       "      <td>1.086433</td>\n",
       "      <td>-0.500985</td>\n",
       "      <td>-1.120770</td>\n",
       "      <td>0.762896</td>\n",
       "    </tr>\n",
       "    <tr>\n",
       "      <th>2000-01-06</th>\n",
       "      <td>0.709335</td>\n",
       "      <td>-1.360979</td>\n",
       "      <td>0.737383</td>\n",
       "      <td>0.873384</td>\n",
       "    </tr>\n",
       "    <tr>\n",
       "      <th>2000-01-07</th>\n",
       "      <td>-0.024675</td>\n",
       "      <td>-0.850337</td>\n",
       "      <td>-1.647623</td>\n",
       "      <td>-0.000226</td>\n",
       "    </tr>\n",
       "    <tr>\n",
       "      <th>2000-01-08</th>\n",
       "      <td>0.786271</td>\n",
       "      <td>-0.231214</td>\n",
       "      <td>-0.768416</td>\n",
       "      <td>-1.694455</td>\n",
       "    </tr>\n",
       "  </tbody>\n",
       "</table>\n",
       "</div>"
      ],
      "text/plain": [
       "                   A         B         C         D\n",
       "2000-01-01  1.041917  1.203960  2.233298 -0.276528\n",
       "2000-01-02 -1.695957 -2.083071 -0.212644 -0.910953\n",
       "2000-01-03  0.855435  1.172846  2.078240  0.609705\n",
       "2000-01-04 -0.203120  0.020476 -0.900161 -0.308050\n",
       "2000-01-05  1.086433 -0.500985 -1.120770  0.762896\n",
       "2000-01-06  0.709335 -1.360979  0.737383  0.873384\n",
       "2000-01-07 -0.024675 -0.850337 -1.647623 -0.000226\n",
       "2000-01-08  0.786271 -0.231214 -0.768416 -1.694455"
      ]
     },
     "execution_count": 3,
     "metadata": {},
     "output_type": "execute_result"
    }
   ],
   "source": [
    "dates = pd.date_range('1/1/2000', periods=8)\n",
    "\n",
    "df = pd.DataFrame(np.random.randn(8, 4),\n",
    "                  index=dates, columns=['A', 'B', 'C', 'D'])\n",
    "\n",
    "df"
   ]
  },
  {
   "cell_type": "code",
   "execution_count": 4,
   "id": "941f5fdb-2469-457a-b416-720bd26e1222",
   "metadata": {},
   "outputs": [
    {
     "data": {
      "text/plain": [
       "np.float64(0.7093349496430663)"
      ]
     },
     "execution_count": 4,
     "metadata": {},
     "output_type": "execute_result"
    }
   ],
   "source": [
    "s = df['A']\n",
    "\n",
    "s[dates[5]]"
   ]
  },
  {
   "cell_type": "code",
   "execution_count": 5,
   "id": "9a066280-0e25-457a-bf4b-b5f0e545d426",
   "metadata": {},
   "outputs": [
    {
     "data": {
      "text/html": [
       "<div>\n",
       "<style scoped>\n",
       "    .dataframe tbody tr th:only-of-type {\n",
       "        vertical-align: middle;\n",
       "    }\n",
       "\n",
       "    .dataframe tbody tr th {\n",
       "        vertical-align: top;\n",
       "    }\n",
       "\n",
       "    .dataframe thead th {\n",
       "        text-align: right;\n",
       "    }\n",
       "</style>\n",
       "<table border=\"1\" class=\"dataframe\">\n",
       "  <thead>\n",
       "    <tr style=\"text-align: right;\">\n",
       "      <th></th>\n",
       "      <th>A</th>\n",
       "      <th>B</th>\n",
       "      <th>C</th>\n",
       "      <th>D</th>\n",
       "    </tr>\n",
       "  </thead>\n",
       "  <tbody>\n",
       "    <tr>\n",
       "      <th>2000-01-01</th>\n",
       "      <td>1.203960</td>\n",
       "      <td>1.041917</td>\n",
       "      <td>2.233298</td>\n",
       "      <td>-0.276528</td>\n",
       "    </tr>\n",
       "    <tr>\n",
       "      <th>2000-01-02</th>\n",
       "      <td>-2.083071</td>\n",
       "      <td>-1.695957</td>\n",
       "      <td>-0.212644</td>\n",
       "      <td>-0.910953</td>\n",
       "    </tr>\n",
       "    <tr>\n",
       "      <th>2000-01-03</th>\n",
       "      <td>1.172846</td>\n",
       "      <td>0.855435</td>\n",
       "      <td>2.078240</td>\n",
       "      <td>0.609705</td>\n",
       "    </tr>\n",
       "    <tr>\n",
       "      <th>2000-01-04</th>\n",
       "      <td>0.020476</td>\n",
       "      <td>-0.203120</td>\n",
       "      <td>-0.900161</td>\n",
       "      <td>-0.308050</td>\n",
       "    </tr>\n",
       "    <tr>\n",
       "      <th>2000-01-05</th>\n",
       "      <td>-0.500985</td>\n",
       "      <td>1.086433</td>\n",
       "      <td>-1.120770</td>\n",
       "      <td>0.762896</td>\n",
       "    </tr>\n",
       "    <tr>\n",
       "      <th>2000-01-06</th>\n",
       "      <td>-1.360979</td>\n",
       "      <td>0.709335</td>\n",
       "      <td>0.737383</td>\n",
       "      <td>0.873384</td>\n",
       "    </tr>\n",
       "    <tr>\n",
       "      <th>2000-01-07</th>\n",
       "      <td>-0.850337</td>\n",
       "      <td>-0.024675</td>\n",
       "      <td>-1.647623</td>\n",
       "      <td>-0.000226</td>\n",
       "    </tr>\n",
       "    <tr>\n",
       "      <th>2000-01-08</th>\n",
       "      <td>-0.231214</td>\n",
       "      <td>0.786271</td>\n",
       "      <td>-0.768416</td>\n",
       "      <td>-1.694455</td>\n",
       "    </tr>\n",
       "  </tbody>\n",
       "</table>\n",
       "</div>"
      ],
      "text/plain": [
       "                   A         B         C         D\n",
       "2000-01-01  1.203960  1.041917  2.233298 -0.276528\n",
       "2000-01-02 -2.083071 -1.695957 -0.212644 -0.910953\n",
       "2000-01-03  1.172846  0.855435  2.078240  0.609705\n",
       "2000-01-04  0.020476 -0.203120 -0.900161 -0.308050\n",
       "2000-01-05 -0.500985  1.086433 -1.120770  0.762896\n",
       "2000-01-06 -1.360979  0.709335  0.737383  0.873384\n",
       "2000-01-07 -0.850337 -0.024675 -1.647623 -0.000226\n",
       "2000-01-08 -0.231214  0.786271 -0.768416 -1.694455"
      ]
     },
     "execution_count": 5,
     "metadata": {},
     "output_type": "execute_result"
    }
   ],
   "source": [
    "df[['B', 'A']] = df[['A', 'B']]\n",
    "\n",
    "df"
   ]
  },
  {
   "cell_type": "code",
   "execution_count": 6,
   "id": "1dd62fe4-cfce-4c67-aa80-93e78a90b902",
   "metadata": {},
   "outputs": [
    {
     "data": {
      "text/html": [
       "<div>\n",
       "<style scoped>\n",
       "    .dataframe tbody tr th:only-of-type {\n",
       "        vertical-align: middle;\n",
       "    }\n",
       "\n",
       "    .dataframe tbody tr th {\n",
       "        vertical-align: top;\n",
       "    }\n",
       "\n",
       "    .dataframe thead th {\n",
       "        text-align: right;\n",
       "    }\n",
       "</style>\n",
       "<table border=\"1\" class=\"dataframe\">\n",
       "  <thead>\n",
       "    <tr style=\"text-align: right;\">\n",
       "      <th></th>\n",
       "      <th>A</th>\n",
       "      <th>B</th>\n",
       "    </tr>\n",
       "  </thead>\n",
       "  <tbody>\n",
       "    <tr>\n",
       "      <th>2000-01-01</th>\n",
       "      <td>1.203960</td>\n",
       "      <td>1.041917</td>\n",
       "    </tr>\n",
       "    <tr>\n",
       "      <th>2000-01-02</th>\n",
       "      <td>-2.083071</td>\n",
       "      <td>-1.695957</td>\n",
       "    </tr>\n",
       "    <tr>\n",
       "      <th>2000-01-03</th>\n",
       "      <td>1.172846</td>\n",
       "      <td>0.855435</td>\n",
       "    </tr>\n",
       "    <tr>\n",
       "      <th>2000-01-04</th>\n",
       "      <td>0.020476</td>\n",
       "      <td>-0.203120</td>\n",
       "    </tr>\n",
       "    <tr>\n",
       "      <th>2000-01-05</th>\n",
       "      <td>-0.500985</td>\n",
       "      <td>1.086433</td>\n",
       "    </tr>\n",
       "    <tr>\n",
       "      <th>2000-01-06</th>\n",
       "      <td>-1.360979</td>\n",
       "      <td>0.709335</td>\n",
       "    </tr>\n",
       "    <tr>\n",
       "      <th>2000-01-07</th>\n",
       "      <td>-0.850337</td>\n",
       "      <td>-0.024675</td>\n",
       "    </tr>\n",
       "    <tr>\n",
       "      <th>2000-01-08</th>\n",
       "      <td>-0.231214</td>\n",
       "      <td>0.786271</td>\n",
       "    </tr>\n",
       "  </tbody>\n",
       "</table>\n",
       "</div>"
      ],
      "text/plain": [
       "                   A         B\n",
       "2000-01-01  1.203960  1.041917\n",
       "2000-01-02 -2.083071 -1.695957\n",
       "2000-01-03  1.172846  0.855435\n",
       "2000-01-04  0.020476 -0.203120\n",
       "2000-01-05 -0.500985  1.086433\n",
       "2000-01-06 -1.360979  0.709335\n",
       "2000-01-07 -0.850337 -0.024675\n",
       "2000-01-08 -0.231214  0.786271"
      ]
     },
     "execution_count": 6,
     "metadata": {},
     "output_type": "execute_result"
    }
   ],
   "source": [
    "df[['A', 'B']]"
   ]
  },
  {
   "cell_type": "code",
   "execution_count": 8,
   "id": "d54d4431-7c22-4fca-a086-61bc50f12f92",
   "metadata": {},
   "outputs": [
    {
     "data": {
      "text/html": [
       "<div>\n",
       "<style scoped>\n",
       "    .dataframe tbody tr th:only-of-type {\n",
       "        vertical-align: middle;\n",
       "    }\n",
       "\n",
       "    .dataframe tbody tr th {\n",
       "        vertical-align: top;\n",
       "    }\n",
       "\n",
       "    .dataframe thead th {\n",
       "        text-align: right;\n",
       "    }\n",
       "</style>\n",
       "<table border=\"1\" class=\"dataframe\">\n",
       "  <thead>\n",
       "    <tr style=\"text-align: right;\">\n",
       "      <th></th>\n",
       "      <th>A</th>\n",
       "      <th>B</th>\n",
       "    </tr>\n",
       "  </thead>\n",
       "  <tbody>\n",
       "    <tr>\n",
       "      <th>2000-01-01</th>\n",
       "      <td>1.203960</td>\n",
       "      <td>1.041917</td>\n",
       "    </tr>\n",
       "    <tr>\n",
       "      <th>2000-01-02</th>\n",
       "      <td>-2.083071</td>\n",
       "      <td>-1.695957</td>\n",
       "    </tr>\n",
       "    <tr>\n",
       "      <th>2000-01-03</th>\n",
       "      <td>1.172846</td>\n",
       "      <td>0.855435</td>\n",
       "    </tr>\n",
       "    <tr>\n",
       "      <th>2000-01-04</th>\n",
       "      <td>0.020476</td>\n",
       "      <td>-0.203120</td>\n",
       "    </tr>\n",
       "    <tr>\n",
       "      <th>2000-01-05</th>\n",
       "      <td>-0.500985</td>\n",
       "      <td>1.086433</td>\n",
       "    </tr>\n",
       "    <tr>\n",
       "      <th>2000-01-06</th>\n",
       "      <td>-1.360979</td>\n",
       "      <td>0.709335</td>\n",
       "    </tr>\n",
       "    <tr>\n",
       "      <th>2000-01-07</th>\n",
       "      <td>-0.850337</td>\n",
       "      <td>-0.024675</td>\n",
       "    </tr>\n",
       "    <tr>\n",
       "      <th>2000-01-08</th>\n",
       "      <td>-0.231214</td>\n",
       "      <td>0.786271</td>\n",
       "    </tr>\n",
       "  </tbody>\n",
       "</table>\n",
       "</div>"
      ],
      "text/plain": [
       "                   A         B\n",
       "2000-01-01  1.203960  1.041917\n",
       "2000-01-02 -2.083071 -1.695957\n",
       "2000-01-03  1.172846  0.855435\n",
       "2000-01-04  0.020476 -0.203120\n",
       "2000-01-05 -0.500985  1.086433\n",
       "2000-01-06 -1.360979  0.709335\n",
       "2000-01-07 -0.850337 -0.024675\n",
       "2000-01-08 -0.231214  0.786271"
      ]
     },
     "execution_count": 8,
     "metadata": {},
     "output_type": "execute_result"
    }
   ],
   "source": [
    "df.loc[:, ['B', 'A']] = df[['A', 'B']]\n",
    "df[['A', 'B']]"
   ]
  },
  {
   "cell_type": "code",
   "execution_count": 10,
   "id": "9629d286-4487-4cea-a7ee-fa493551bfdf",
   "metadata": {},
   "outputs": [
    {
     "data": {
      "text/html": [
       "<div>\n",
       "<style scoped>\n",
       "    .dataframe tbody tr th:only-of-type {\n",
       "        vertical-align: middle;\n",
       "    }\n",
       "\n",
       "    .dataframe tbody tr th {\n",
       "        vertical-align: top;\n",
       "    }\n",
       "\n",
       "    .dataframe thead th {\n",
       "        text-align: right;\n",
       "    }\n",
       "</style>\n",
       "<table border=\"1\" class=\"dataframe\">\n",
       "  <thead>\n",
       "    <tr style=\"text-align: right;\">\n",
       "      <th></th>\n",
       "      <th>A</th>\n",
       "      <th>B</th>\n",
       "    </tr>\n",
       "  </thead>\n",
       "  <tbody>\n",
       "    <tr>\n",
       "      <th>2000-01-01</th>\n",
       "      <td>1.203960</td>\n",
       "      <td>1.041917</td>\n",
       "    </tr>\n",
       "    <tr>\n",
       "      <th>2000-01-02</th>\n",
       "      <td>-2.083071</td>\n",
       "      <td>-1.695957</td>\n",
       "    </tr>\n",
       "    <tr>\n",
       "      <th>2000-01-03</th>\n",
       "      <td>1.172846</td>\n",
       "      <td>0.855435</td>\n",
       "    </tr>\n",
       "    <tr>\n",
       "      <th>2000-01-04</th>\n",
       "      <td>0.020476</td>\n",
       "      <td>-0.203120</td>\n",
       "    </tr>\n",
       "    <tr>\n",
       "      <th>2000-01-05</th>\n",
       "      <td>-0.500985</td>\n",
       "      <td>1.086433</td>\n",
       "    </tr>\n",
       "    <tr>\n",
       "      <th>2000-01-06</th>\n",
       "      <td>-1.360979</td>\n",
       "      <td>0.709335</td>\n",
       "    </tr>\n",
       "    <tr>\n",
       "      <th>2000-01-07</th>\n",
       "      <td>-0.850337</td>\n",
       "      <td>-0.024675</td>\n",
       "    </tr>\n",
       "    <tr>\n",
       "      <th>2000-01-08</th>\n",
       "      <td>-0.231214</td>\n",
       "      <td>0.786271</td>\n",
       "    </tr>\n",
       "  </tbody>\n",
       "</table>\n",
       "</div>"
      ],
      "text/plain": [
       "                   A         B\n",
       "2000-01-01  1.203960  1.041917\n",
       "2000-01-02 -2.083071 -1.695957\n",
       "2000-01-03  1.172846  0.855435\n",
       "2000-01-04  0.020476 -0.203120\n",
       "2000-01-05 -0.500985  1.086433\n",
       "2000-01-06 -1.360979  0.709335\n",
       "2000-01-07 -0.850337 -0.024675\n",
       "2000-01-08 -0.231214  0.786271"
      ]
     },
     "execution_count": 10,
     "metadata": {},
     "output_type": "execute_result"
    }
   ],
   "source": [
    "#Swapping column values using raw values\n",
    "df.loc[:, ['B', 'A']] = df[['A', 'B']].to_numpy()\n",
    "df[['A', 'B']]"
   ]
  },
  {
   "cell_type": "code",
   "execution_count": 12,
   "id": "1050a9ee-91a7-4712-aa87-d9c93695a67f",
   "metadata": {},
   "outputs": [
    {
     "data": {
      "text/html": [
       "<div>\n",
       "<style scoped>\n",
       "    .dataframe tbody tr th:only-of-type {\n",
       "        vertical-align: middle;\n",
       "    }\n",
       "\n",
       "    .dataframe tbody tr th {\n",
       "        vertical-align: top;\n",
       "    }\n",
       "\n",
       "    .dataframe thead th {\n",
       "        text-align: right;\n",
       "    }\n",
       "</style>\n",
       "<table border=\"1\" class=\"dataframe\">\n",
       "  <thead>\n",
       "    <tr style=\"text-align: right;\">\n",
       "      <th></th>\n",
       "      <th>A</th>\n",
       "      <th>B</th>\n",
       "    </tr>\n",
       "  </thead>\n",
       "  <tbody>\n",
       "    <tr>\n",
       "      <th>2000-01-01</th>\n",
       "      <td>1.041917</td>\n",
       "      <td>1.203960</td>\n",
       "    </tr>\n",
       "    <tr>\n",
       "      <th>2000-01-02</th>\n",
       "      <td>-1.695957</td>\n",
       "      <td>-2.083071</td>\n",
       "    </tr>\n",
       "    <tr>\n",
       "      <th>2000-01-03</th>\n",
       "      <td>0.855435</td>\n",
       "      <td>1.172846</td>\n",
       "    </tr>\n",
       "    <tr>\n",
       "      <th>2000-01-04</th>\n",
       "      <td>-0.203120</td>\n",
       "      <td>0.020476</td>\n",
       "    </tr>\n",
       "    <tr>\n",
       "      <th>2000-01-05</th>\n",
       "      <td>1.086433</td>\n",
       "      <td>-0.500985</td>\n",
       "    </tr>\n",
       "    <tr>\n",
       "      <th>2000-01-06</th>\n",
       "      <td>0.709335</td>\n",
       "      <td>-1.360979</td>\n",
       "    </tr>\n",
       "    <tr>\n",
       "      <th>2000-01-07</th>\n",
       "      <td>-0.024675</td>\n",
       "      <td>-0.850337</td>\n",
       "    </tr>\n",
       "    <tr>\n",
       "      <th>2000-01-08</th>\n",
       "      <td>0.786271</td>\n",
       "      <td>-0.231214</td>\n",
       "    </tr>\n",
       "  </tbody>\n",
       "</table>\n",
       "</div>"
      ],
      "text/plain": [
       "                   A         B\n",
       "2000-01-01  1.041917  1.203960\n",
       "2000-01-02 -1.695957 -2.083071\n",
       "2000-01-03  0.855435  1.172846\n",
       "2000-01-04 -0.203120  0.020476\n",
       "2000-01-05  1.086433 -0.500985\n",
       "2000-01-06  0.709335 -1.360979\n",
       "2000-01-07 -0.024675 -0.850337\n",
       "2000-01-08  0.786271 -0.231214"
      ]
     },
     "execution_count": 12,
     "metadata": {},
     "output_type": "execute_result"
    }
   ],
   "source": [
    "df.iloc[:, [1, 0]] = df[['A', 'B']]\n",
    "df[['A','B']]"
   ]
  },
  {
   "cell_type": "code",
   "execution_count": 14,
   "id": "bf202ca0-4ec0-469d-b592-3ade981bc39a",
   "metadata": {},
   "outputs": [
    {
     "data": {
      "text/plain": [
       "np.int64(2)"
      ]
     },
     "execution_count": 14,
     "metadata": {},
     "output_type": "execute_result"
    }
   ],
   "source": [
    "#Accessing an index on a Series or column on a DataFrame directly as an attribute\n",
    "sa = pd.Series([1, 2, 3], index=list('abc'))\n",
    "dfa = df.copy()\n",
    "sa.b"
   ]
  },
  {
   "cell_type": "code",
   "execution_count": 15,
   "id": "e9582303-0bf0-40ca-b426-2017336d29c2",
   "metadata": {},
   "outputs": [
    {
     "data": {
      "text/plain": [
       "2000-01-01    1.041917\n",
       "2000-01-02   -1.695957\n",
       "2000-01-03    0.855435\n",
       "2000-01-04   -0.203120\n",
       "2000-01-05    1.086433\n",
       "2000-01-06    0.709335\n",
       "2000-01-07   -0.024675\n",
       "2000-01-08    0.786271\n",
       "Freq: D, Name: A, dtype: float64"
      ]
     },
     "execution_count": 15,
     "metadata": {},
     "output_type": "execute_result"
    }
   ],
   "source": [
    "dfa.A"
   ]
  },
  {
   "cell_type": "code",
   "execution_count": 16,
   "id": "262ee0ae-b274-4c1a-ba81-63a7187eafc4",
   "metadata": {},
   "outputs": [
    {
     "data": {
      "text/plain": [
       "a    5\n",
       "b    2\n",
       "c    3\n",
       "dtype: int64"
      ]
     },
     "execution_count": 16,
     "metadata": {},
     "output_type": "execute_result"
    }
   ],
   "source": [
    "sa.a = 5\n",
    "sa"
   ]
  },
  {
   "cell_type": "code",
   "execution_count": 17,
   "id": "7fc5bbb2-218c-487d-b23e-1c5a320ecec7",
   "metadata": {},
   "outputs": [
    {
     "data": {
      "text/html": [
       "<div>\n",
       "<style scoped>\n",
       "    .dataframe tbody tr th:only-of-type {\n",
       "        vertical-align: middle;\n",
       "    }\n",
       "\n",
       "    .dataframe tbody tr th {\n",
       "        vertical-align: top;\n",
       "    }\n",
       "\n",
       "    .dataframe thead th {\n",
       "        text-align: right;\n",
       "    }\n",
       "</style>\n",
       "<table border=\"1\" class=\"dataframe\">\n",
       "  <thead>\n",
       "    <tr style=\"text-align: right;\">\n",
       "      <th></th>\n",
       "      <th>A</th>\n",
       "      <th>B</th>\n",
       "      <th>C</th>\n",
       "      <th>D</th>\n",
       "    </tr>\n",
       "  </thead>\n",
       "  <tbody>\n",
       "    <tr>\n",
       "      <th>2000-01-01</th>\n",
       "      <td>0</td>\n",
       "      <td>1.203960</td>\n",
       "      <td>2.233298</td>\n",
       "      <td>-0.276528</td>\n",
       "    </tr>\n",
       "    <tr>\n",
       "      <th>2000-01-02</th>\n",
       "      <td>1</td>\n",
       "      <td>-2.083071</td>\n",
       "      <td>-0.212644</td>\n",
       "      <td>-0.910953</td>\n",
       "    </tr>\n",
       "    <tr>\n",
       "      <th>2000-01-03</th>\n",
       "      <td>2</td>\n",
       "      <td>1.172846</td>\n",
       "      <td>2.078240</td>\n",
       "      <td>0.609705</td>\n",
       "    </tr>\n",
       "    <tr>\n",
       "      <th>2000-01-04</th>\n",
       "      <td>3</td>\n",
       "      <td>0.020476</td>\n",
       "      <td>-0.900161</td>\n",
       "      <td>-0.308050</td>\n",
       "    </tr>\n",
       "    <tr>\n",
       "      <th>2000-01-05</th>\n",
       "      <td>4</td>\n",
       "      <td>-0.500985</td>\n",
       "      <td>-1.120770</td>\n",
       "      <td>0.762896</td>\n",
       "    </tr>\n",
       "    <tr>\n",
       "      <th>2000-01-06</th>\n",
       "      <td>5</td>\n",
       "      <td>-1.360979</td>\n",
       "      <td>0.737383</td>\n",
       "      <td>0.873384</td>\n",
       "    </tr>\n",
       "    <tr>\n",
       "      <th>2000-01-07</th>\n",
       "      <td>6</td>\n",
       "      <td>-0.850337</td>\n",
       "      <td>-1.647623</td>\n",
       "      <td>-0.000226</td>\n",
       "    </tr>\n",
       "    <tr>\n",
       "      <th>2000-01-08</th>\n",
       "      <td>7</td>\n",
       "      <td>-0.231214</td>\n",
       "      <td>-0.768416</td>\n",
       "      <td>-1.694455</td>\n",
       "    </tr>\n",
       "  </tbody>\n",
       "</table>\n",
       "</div>"
      ],
      "text/plain": [
       "            A         B         C         D\n",
       "2000-01-01  0  1.203960  2.233298 -0.276528\n",
       "2000-01-02  1 -2.083071 -0.212644 -0.910953\n",
       "2000-01-03  2  1.172846  2.078240  0.609705\n",
       "2000-01-04  3  0.020476 -0.900161 -0.308050\n",
       "2000-01-05  4 -0.500985 -1.120770  0.762896\n",
       "2000-01-06  5 -1.360979  0.737383  0.873384\n",
       "2000-01-07  6 -0.850337 -1.647623 -0.000226\n",
       "2000-01-08  7 -0.231214 -0.768416 -1.694455"
      ]
     },
     "execution_count": 17,
     "metadata": {},
     "output_type": "execute_result"
    }
   ],
   "source": [
    "dfa.A = list(range(len(dfa.index)))  # ok if A already exists\n",
    "dfa"
   ]
  },
  {
   "cell_type": "code",
   "execution_count": 18,
   "id": "358048fe-989c-4e42-9ce6-fe3004525ea6",
   "metadata": {},
   "outputs": [
    {
     "data": {
      "text/html": [
       "<div>\n",
       "<style scoped>\n",
       "    .dataframe tbody tr th:only-of-type {\n",
       "        vertical-align: middle;\n",
       "    }\n",
       "\n",
       "    .dataframe tbody tr th {\n",
       "        vertical-align: top;\n",
       "    }\n",
       "\n",
       "    .dataframe thead th {\n",
       "        text-align: right;\n",
       "    }\n",
       "</style>\n",
       "<table border=\"1\" class=\"dataframe\">\n",
       "  <thead>\n",
       "    <tr style=\"text-align: right;\">\n",
       "      <th></th>\n",
       "      <th>A</th>\n",
       "      <th>B</th>\n",
       "      <th>C</th>\n",
       "      <th>D</th>\n",
       "    </tr>\n",
       "  </thead>\n",
       "  <tbody>\n",
       "    <tr>\n",
       "      <th>2000-01-01</th>\n",
       "      <td>0</td>\n",
       "      <td>1.203960</td>\n",
       "      <td>2.233298</td>\n",
       "      <td>-0.276528</td>\n",
       "    </tr>\n",
       "    <tr>\n",
       "      <th>2000-01-02</th>\n",
       "      <td>1</td>\n",
       "      <td>-2.083071</td>\n",
       "      <td>-0.212644</td>\n",
       "      <td>-0.910953</td>\n",
       "    </tr>\n",
       "    <tr>\n",
       "      <th>2000-01-03</th>\n",
       "      <td>2</td>\n",
       "      <td>1.172846</td>\n",
       "      <td>2.078240</td>\n",
       "      <td>0.609705</td>\n",
       "    </tr>\n",
       "    <tr>\n",
       "      <th>2000-01-04</th>\n",
       "      <td>3</td>\n",
       "      <td>0.020476</td>\n",
       "      <td>-0.900161</td>\n",
       "      <td>-0.308050</td>\n",
       "    </tr>\n",
       "    <tr>\n",
       "      <th>2000-01-05</th>\n",
       "      <td>4</td>\n",
       "      <td>-0.500985</td>\n",
       "      <td>-1.120770</td>\n",
       "      <td>0.762896</td>\n",
       "    </tr>\n",
       "    <tr>\n",
       "      <th>2000-01-06</th>\n",
       "      <td>5</td>\n",
       "      <td>-1.360979</td>\n",
       "      <td>0.737383</td>\n",
       "      <td>0.873384</td>\n",
       "    </tr>\n",
       "    <tr>\n",
       "      <th>2000-01-07</th>\n",
       "      <td>6</td>\n",
       "      <td>-0.850337</td>\n",
       "      <td>-1.647623</td>\n",
       "      <td>-0.000226</td>\n",
       "    </tr>\n",
       "    <tr>\n",
       "      <th>2000-01-08</th>\n",
       "      <td>7</td>\n",
       "      <td>-0.231214</td>\n",
       "      <td>-0.768416</td>\n",
       "      <td>-1.694455</td>\n",
       "    </tr>\n",
       "  </tbody>\n",
       "</table>\n",
       "</div>"
      ],
      "text/plain": [
       "            A         B         C         D\n",
       "2000-01-01  0  1.203960  2.233298 -0.276528\n",
       "2000-01-02  1 -2.083071 -0.212644 -0.910953\n",
       "2000-01-03  2  1.172846  2.078240  0.609705\n",
       "2000-01-04  3  0.020476 -0.900161 -0.308050\n",
       "2000-01-05  4 -0.500985 -1.120770  0.762896\n",
       "2000-01-06  5 -1.360979  0.737383  0.873384\n",
       "2000-01-07  6 -0.850337 -1.647623 -0.000226\n",
       "2000-01-08  7 -0.231214 -0.768416 -1.694455"
      ]
     },
     "execution_count": 18,
     "metadata": {},
     "output_type": "execute_result"
    }
   ],
   "source": [
    "dfa['A'] = list(range(len(dfa.index)))  # use this form to create a new column\n",
    "dfa"
   ]
  },
  {
   "cell_type": "code",
   "execution_count": 19,
   "id": "9b492da4-312b-4ba3-9fab-c47de3be963c",
   "metadata": {},
   "outputs": [
    {
     "data": {
      "text/plain": [
       "2000-01-01    1.041917\n",
       "2000-01-02   -1.695957\n",
       "2000-01-03    0.855435\n",
       "2000-01-04   -0.203120\n",
       "2000-01-05    1.086433\n",
       "Freq: D, Name: A, dtype: float64"
      ]
     },
     "execution_count": 19,
     "metadata": {},
     "output_type": "execute_result"
    }
   ],
   "source": [
    "#Slicing ranges\n",
    "s[:5]"
   ]
  },
  {
   "cell_type": "code",
   "execution_count": 20,
   "id": "ef208b2f-59c3-4b12-90fe-4d65d6abbafe",
   "metadata": {},
   "outputs": [
    {
     "data": {
      "text/plain": [
       "2000-01-01    1.041917\n",
       "2000-01-03    0.855435\n",
       "2000-01-05    1.086433\n",
       "2000-01-07   -0.024675\n",
       "Freq: 2D, Name: A, dtype: float64"
      ]
     },
     "execution_count": 20,
     "metadata": {},
     "output_type": "execute_result"
    }
   ],
   "source": [
    "s[::2]"
   ]
  },
  {
   "cell_type": "code",
   "execution_count": 21,
   "id": "a4d568a8-aacc-48e0-adc1-375ca069de15",
   "metadata": {},
   "outputs": [
    {
     "data": {
      "text/plain": [
       "2000-01-08    0.786271\n",
       "2000-01-07   -0.024675\n",
       "2000-01-06    0.709335\n",
       "2000-01-05    1.086433\n",
       "2000-01-04   -0.203120\n",
       "2000-01-03    0.855435\n",
       "2000-01-02   -1.695957\n",
       "2000-01-01    1.041917\n",
       "Freq: -1D, Name: A, dtype: float64"
      ]
     },
     "execution_count": 21,
     "metadata": {},
     "output_type": "execute_result"
    }
   ],
   "source": [
    "s[::-1]"
   ]
  },
  {
   "cell_type": "code",
   "execution_count": 22,
   "id": "4ec8bf16-3d53-45fc-a3a5-73df36829997",
   "metadata": {},
   "outputs": [
    {
     "data": {
      "text/html": [
       "<div>\n",
       "<style scoped>\n",
       "    .dataframe tbody tr th:only-of-type {\n",
       "        vertical-align: middle;\n",
       "    }\n",
       "\n",
       "    .dataframe tbody tr th {\n",
       "        vertical-align: top;\n",
       "    }\n",
       "\n",
       "    .dataframe thead th {\n",
       "        text-align: right;\n",
       "    }\n",
       "</style>\n",
       "<table border=\"1\" class=\"dataframe\">\n",
       "  <thead>\n",
       "    <tr style=\"text-align: right;\">\n",
       "      <th></th>\n",
       "      <th>A</th>\n",
       "      <th>B</th>\n",
       "      <th>C</th>\n",
       "      <th>D</th>\n",
       "    </tr>\n",
       "  </thead>\n",
       "  <tbody>\n",
       "    <tr>\n",
       "      <th>2000-01-01</th>\n",
       "      <td>1.041917</td>\n",
       "      <td>1.203960</td>\n",
       "      <td>2.233298</td>\n",
       "      <td>-0.276528</td>\n",
       "    </tr>\n",
       "    <tr>\n",
       "      <th>2000-01-02</th>\n",
       "      <td>-1.695957</td>\n",
       "      <td>-2.083071</td>\n",
       "      <td>-0.212644</td>\n",
       "      <td>-0.910953</td>\n",
       "    </tr>\n",
       "    <tr>\n",
       "      <th>2000-01-03</th>\n",
       "      <td>0.855435</td>\n",
       "      <td>1.172846</td>\n",
       "      <td>2.078240</td>\n",
       "      <td>0.609705</td>\n",
       "    </tr>\n",
       "  </tbody>\n",
       "</table>\n",
       "</div>"
      ],
      "text/plain": [
       "                   A         B         C         D\n",
       "2000-01-01  1.041917  1.203960  2.233298 -0.276528\n",
       "2000-01-02 -1.695957 -2.083071 -0.212644 -0.910953\n",
       "2000-01-03  0.855435  1.172846  2.078240  0.609705"
      ]
     },
     "execution_count": 22,
     "metadata": {},
     "output_type": "execute_result"
    }
   ],
   "source": [
    "df[:3]"
   ]
  },
  {
   "cell_type": "code",
   "execution_count": 28,
   "id": "4a6e6ef5-3ba5-42f6-8f7e-d403b55c2143",
   "metadata": {},
   "outputs": [
    {
     "data": {
      "text/html": [
       "<div>\n",
       "<style scoped>\n",
       "    .dataframe tbody tr th:only-of-type {\n",
       "        vertical-align: middle;\n",
       "    }\n",
       "\n",
       "    .dataframe tbody tr th {\n",
       "        vertical-align: top;\n",
       "    }\n",
       "\n",
       "    .dataframe thead th {\n",
       "        text-align: right;\n",
       "    }\n",
       "</style>\n",
       "<table border=\"1\" class=\"dataframe\">\n",
       "  <thead>\n",
       "    <tr style=\"text-align: right;\">\n",
       "      <th></th>\n",
       "      <th>A</th>\n",
       "      <th>B</th>\n",
       "      <th>C</th>\n",
       "      <th>D</th>\n",
       "    </tr>\n",
       "  </thead>\n",
       "  <tbody>\n",
       "    <tr>\n",
       "      <th>2000-01-03</th>\n",
       "      <td>0.855435</td>\n",
       "      <td>1.172846</td>\n",
       "      <td>2.078240</td>\n",
       "      <td>0.609705</td>\n",
       "    </tr>\n",
       "    <tr>\n",
       "      <th>2000-01-02</th>\n",
       "      <td>-1.695957</td>\n",
       "      <td>-2.083071</td>\n",
       "      <td>-0.212644</td>\n",
       "      <td>-0.910953</td>\n",
       "    </tr>\n",
       "    <tr>\n",
       "      <th>2000-01-01</th>\n",
       "      <td>1.041917</td>\n",
       "      <td>1.203960</td>\n",
       "      <td>2.233298</td>\n",
       "      <td>-0.276528</td>\n",
       "    </tr>\n",
       "  </tbody>\n",
       "</table>\n",
       "</div>"
      ],
      "text/plain": [
       "                   A         B         C         D\n",
       "2000-01-03  0.855435  1.172846  2.078240  0.609705\n",
       "2000-01-02 -1.695957 -2.083071 -0.212644 -0.910953\n",
       "2000-01-01  1.041917  1.203960  2.233298 -0.276528"
      ]
     },
     "execution_count": 28,
     "metadata": {},
     "output_type": "execute_result"
    }
   ],
   "source": [
    "df[2::-1]"
   ]
  },
  {
   "cell_type": "code",
   "execution_count": null,
   "id": "f6122b44-a0b9-40f5-80ba-51fc4281eb2d",
   "metadata": {},
   "outputs": [],
   "source": [
    "#Selection by label\n"
   ]
  }
 ],
 "metadata": {
  "kernelspec": {
   "display_name": "Python 3 (ipykernel)",
   "language": "python",
   "name": "python3"
  },
  "language_info": {
   "codemirror_mode": {
    "name": "ipython",
    "version": 3
   },
   "file_extension": ".py",
   "mimetype": "text/x-python",
   "name": "python",
   "nbconvert_exporter": "python",
   "pygments_lexer": "ipython3",
   "version": "3.13.1"
  }
 },
 "nbformat": 4,
 "nbformat_minor": 5
}
