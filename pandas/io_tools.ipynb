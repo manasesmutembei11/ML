{
 "cells": [
  {
   "cell_type": "raw",
   "id": "a1f46584-5e8a-4ac4-a761-cc38933716e9",
   "metadata": {},
   "source": [
    "IO tools (text, CSV, HDF5, …)\n",
    "The pandas I/O API is a set of top level reader functions accessed like pandas.read_csv() that generally return a pandas object. The corresponding writer functions are object methods that are accessed like DataFrame.to_csv(). Below is a table containing available readers and writers.\n",
    "\n",
    "Format Type\tData Description\tReader\tWriter\n",
    "Text\tCSV\tread_csv\tto_csv\n",
    "Text\tFixed-Width Text File\tread_fwf\tNA\n",
    "Text\tJSON\tread_json\tto_json\n",
    "Text\tHTML\tread_html\tto_html\n",
    "Text\tLaTeX\tStyler.to_latex\tNA\n",
    "Text\tXML\tread_xml\tto_xml\n",
    "Text\tLocal Clipboard\tread_clipboard\tto_clipboard\n",
    "Binary\tMS Excel\tread_excel\tto_excel\n",
    "Binary\tOpenDocument\tread_excel\tNA\n",
    "Binary\tHDF5 Format\tread_hdf\tto_hdf\n",
    "Binary\tFeather Format\tread_feather\tto_feather\n",
    "Binary\tParquet Format\tread_parquet\tto_parquet\n",
    "Binary\tORC Format\tread_orc\tto_orc\n",
    "Binary\tStata\tread_stata\tto_stata\n",
    "Binary\tSAS\tread_sas\tNA\n",
    "Binary\tSPSS\tread_spss\tNA\n",
    "Binary\tPython Pickle Format\tread_pickle\tto_pickle\n",
    "SQL\tSQL\tread_sql\tto_sql"
   ]
  },
  {
   "cell_type": "code",
   "execution_count": null,
   "id": "33aa2a81-8219-4646-a6e8-bd37025bf8ac",
   "metadata": {},
   "outputs": [],
   "source": []
  }
 ],
 "metadata": {
  "kernelspec": {
   "display_name": "Python 3 (ipykernel)",
   "language": "python",
   "name": "python3"
  },
  "language_info": {
   "codemirror_mode": {
    "name": "ipython",
    "version": 3
   },
   "file_extension": ".py",
   "mimetype": "text/x-python",
   "name": "python",
   "nbconvert_exporter": "python",
   "pygments_lexer": "ipython3",
   "version": "3.13.1"
  }
 },
 "nbformat": 4,
 "nbformat_minor": 5
}
