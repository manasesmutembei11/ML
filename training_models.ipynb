{
 "cells": [
  {
   "cell_type": "code",
   "execution_count": 1,
   "id": "95377a46-bc72-4db3-9b93-4dd33f8c2871",
   "metadata": {},
   "outputs": [],
   "source": [
    "import numpy as np\n",
    "import matplotlib.pyplot as plt\n",
    "X = 2 * np.random.rand(100, 1)\n",
    "y = 4 + 3 * X + np.random.randn(100, 1)\n"
   ]
  },
  {
   "cell_type": "code",
   "execution_count": 2,
   "id": "c110dd08-4f6e-4ff4-9660-5af55a872129",
   "metadata": {},
   "outputs": [
    {
     "data": {
      "text/plain": [
       "array([[3.81495303],\n",
       "       [3.10450789]])"
      ]
     },
     "execution_count": 2,
     "metadata": {},
     "output_type": "execute_result"
    }
   ],
   "source": [
    "X_b = np.c_[np.ones((100, 1)), X] # add x0 = 1 to each instance\n",
    "theta_best = np.linalg.inv(X_b.T.dot(X_b)).dot(X_b.T).dot(y)\n",
    "theta_best"
   ]
  },
  {
   "cell_type": "code",
   "execution_count": 3,
   "id": "e5551283-e32b-492b-87b3-9e5a660cbef1",
   "metadata": {},
   "outputs": [
    {
     "data": {
      "text/plain": [
       "array([[ 3.81495303],\n",
       "       [10.02396881]])"
      ]
     },
     "execution_count": 3,
     "metadata": {},
     "output_type": "execute_result"
    }
   ],
   "source": [
    "X_new = np.array([[0], [2]])\n",
    "X_new_b = np.c_[np.ones((2, 1)), X_new] # add x0 = 1 to each instance\n",
    "y_predict = X_new_b.dot(theta_best)\n",
    "y_predict\n"
   ]
  },
  {
   "cell_type": "code",
   "execution_count": 4,
   "id": "3df57507-cdfc-42f1-b07d-9fd6aaf86fe4",
   "metadata": {},
   "outputs": [
    {
     "data": {
      "image/png": "[encoded data removed]",
      "text/plain": [
       "<Figure size 640x480 with 1 Axes>"
      ]
     },
     "metadata": {},
     "output_type": "display_data"
    }
   ],
   "source": [
    "plt.plot(X_new, y_predict, \"r-\")\n",
    "plt.plot(X, y, \"b.\")\n",
    "plt.axis([0, 2, 0, 15])\n",
    "plt.show()"
   ]
  },
  {
   "cell_type": "code",
   "execution_count": 5,
   "id": "7480bcd5-f858-496e-9a8f-7ae4976e23c7",
   "metadata": {},
   "outputs": [
    {
     "data": {
      "text/plain": [
       "(array([3.81495303]), array([[3.10450789]]))"
      ]
     },
     "execution_count": 5,
     "metadata": {},
     "output_type": "execute_result"
    }
   ],
   "source": [
    "from sklearn.linear_model import LinearRegression\n",
    "lin_reg = LinearRegression()\n",
    "lin_reg.fit(X, y)\n",
    "lin_reg.intercept_, lin_reg.coef_\n"
   ]
  },
  {
   "cell_type": "code",
   "execution_count": 6,
   "id": "2202e9b7-3d6a-4e44-9aea-f241226ac7cd",
   "metadata": {},
   "outputs": [
    {
     "data": {
      "text/plain": [
       "array([[ 3.81495303],\n",
       "       [10.02396881]])"
      ]
     },
     "execution_count": 6,
     "metadata": {},
     "output_type": "execute_result"
    }
   ],
   "source": [
    "lin_reg.predict(X_new)\n"
   ]
  },
  {
   "cell_type": "code",
   "execution_count": 7,
   "id": "d6c218ed-cd62-4851-accf-5ca89e7dffec",
   "metadata": {},
   "outputs": [
    {
     "data": {
      "text/plain": [
       "array([[3.81495303],\n",
       "       [3.10450789]])"
      ]
     },
     "execution_count": 7,
     "metadata": {},
     "output_type": "execute_result"
    }
   ],
   "source": [
    "theta_best_svd, residuals, rank, s = np.linalg.lstsq(X_b, y, rcond=1e-6)\n",
    "theta_best_svd\n"
   ]
  },
  {
   "cell_type": "code",
   "execution_count": 8,
   "id": "9f028385-5994-4f63-acf6-eea18e99c0cb",
   "metadata": {},
   "outputs": [
    {
     "data": {
      "text/plain": [
       "array([[3.81495303],\n",
       "       [3.10450789]])"
      ]
     },
     "execution_count": 8,
     "metadata": {},
     "output_type": "execute_result"
    }
   ],
   "source": [
    "np.linalg.pinv(X_b).dot(y)\n"
   ]
  },
  {
   "cell_type": "code",
   "execution_count": 9,
   "id": "5a4aa67f-3754-40f6-bba5-aa2c434138d0",
   "metadata": {},
   "outputs": [],
   "source": [
    "#GRADIENT DESCENT"
   ]
  },
  {
   "cell_type": "code",
   "execution_count": 10,
   "id": "19a57815-7bae-4628-a32a-4c311a905ff2",
   "metadata": {},
   "outputs": [
    {
     "data": {
      "text/plain": [
       "array([[3.81495303],\n",
       "       [3.10450789]])"
      ]
     },
     "execution_count": 10,
     "metadata": {},
     "output_type": "execute_result"
    }
   ],
   "source": [
    "eta = 0.1 # learning rate\n",
    "n_iterations = 1000\n",
    "m = 100\n",
    "theta = np.random.randn(2,1) # random initialization\n",
    "for iteration in range(n_iterations):\n",
    " gradients = 2/m * X_b.T.dot(X_b.dot(theta) - y)\n",
    " theta = theta - eta * gradients\n",
    "theta"
   ]
  },
  {
   "cell_type": "code",
   "execution_count": null,
   "id": "9fd2fd34-5aee-4b15-a30c-d355650443a4",
   "metadata": {},
   "outputs": [],
   "source": [
    "#STOCHASTIC GRADIENT DESCENT"
   ]
  },
  {
   "cell_type": "code",
   "execution_count": 12,
   "id": "f7f6ef94-62e0-4496-9767-2ea1f93fc03b",
   "metadata": {},
   "outputs": [
    {
     "data": {
      "text/plain": [
       "array([[3.88627218],\n",
       "       [3.08753776]])"
      ]
     },
     "execution_count": 12,
     "metadata": {},
     "output_type": "execute_result"
    }
   ],
   "source": [
    "n_epochs = 50\n",
    "t0, t1 = 5, 50 # learning schedule hyperparameters\n",
    "def learning_schedule(t):\n",
    " return t0 / (t + t1)\n",
    "theta = np.random.randn(2,1) # random initialization\n",
    "for epoch in range(n_epochs):\n",
    "     for i in range(m):\n",
    "         random_index = np.random.randint(m)\n",
    "         xi = X_b[random_index:random_index+1]\n",
    "         yi = y[random_index:random_index+1]\n",
    "         gradients = 2 * xi.T.dot(xi.dot(theta) - yi)\n",
    "         eta = learning_schedule(epoch * m + i)\n",
    "         theta = theta - eta * gradients\n",
    "theta"
   ]
  },
  {
   "cell_type": "code",
   "execution_count": 13,
   "id": "1c6765fe-5b1c-43bd-ba5b-90ac46c79a0d",
   "metadata": {},
   "outputs": [
    {
     "data": {
      "text/plain": [
       "(array([3.79266192]), array([3.11764278]))"
      ]
     },
     "execution_count": 13,
     "metadata": {},
     "output_type": "execute_result"
    }
   ],
   "source": [
    "from sklearn.linear_model import SGDRegressor\n",
    "sgd_reg = SGDRegressor(max_iter=1000, tol=1e-3, penalty=None, eta0=0.1)\n",
    "sgd_reg.fit(X, y.ravel())\n",
    "sgd_reg.intercept_, sgd_reg.coef_\n"
   ]
  },
  {
   "cell_type": "code",
   "execution_count": null,
   "id": "839b171a-5980-43d0-b08b-e2fd5a04d86f",
   "metadata": {},
   "outputs": [],
   "source": [
    "#POLYNOMIAL REGRESSION"
   ]
  },
  {
   "cell_type": "code",
   "execution_count": 14,
   "id": "016cdc8d-83f4-4cd4-bbed-24c3b61d534a",
   "metadata": {},
   "outputs": [],
   "source": [
    "m = 100\n",
    "X = 6 * np.random.rand(m, 1) - 3\n",
    "y = 0.5 * X**2 + X + 2 + np.random.randn(m, 1)\n"
   ]
  },
  {
   "cell_type": "code",
   "execution_count": 15,
   "id": "8ea0802c-e376-47fa-bb49-8c4e534847f5",
   "metadata": {},
   "outputs": [
    {
     "data": {
      "text/plain": [
       "array([-2.81760576])"
      ]
     },
     "execution_count": 15,
     "metadata": {},
     "output_type": "execute_result"
    }
   ],
   "source": [
    "from sklearn.preprocessing import PolynomialFeatures\n",
    "poly_features = PolynomialFeatures(degree=2, include_bias=False)\n",
    "X_poly = poly_features.fit_transform(X)\n",
    "X[0]\n"
   ]
  },
  {
   "cell_type": "code",
   "execution_count": 16,
   "id": "d6a7026d-4d0d-458e-a596-5fe48021bc4a",
   "metadata": {},
   "outputs": [
    {
     "data": {
      "text/plain": [
       "array([-2.81760576,  7.93890224])"
      ]
     },
     "execution_count": 16,
     "metadata": {},
     "output_type": "execute_result"
    }
   ],
   "source": [
    "X_poly[0]\n"
   ]
  },
  {
   "cell_type": "code",
   "execution_count": 17,
   "id": "74c0866e-face-4f6d-9521-c08f532fb1ab",
   "metadata": {},
   "outputs": [
    {
     "data": {
      "text/plain": [
       "(array([2.04460038]), array([[1.00434848, 0.51011472]]))"
      ]
     },
     "execution_count": 17,
     "metadata": {},
     "output_type": "execute_result"
    }
   ],
   "source": [
    "lin_reg = LinearRegression()\n",
    "lin_reg.fit(X_poly, y)\n",
    "lin_reg.intercept_, lin_reg.coef_\n"
   ]
  },
  {
   "cell_type": "code",
   "execution_count": 18,
   "id": "238ad6bd-28d0-46a1-a37d-29b2ec90fb37",
   "metadata": {},
   "outputs": [],
   "source": [
    "#LEARNING CURVES"
   ]
  },
  {
   "cell_type": "code",
   "execution_count": 28,
   "id": "411e176a-800a-4756-a474-3f463ec2f10f",
   "metadata": {},
   "outputs": [],
   "source": [
    "from sklearn.metrics import mean_squared_error\n",
    "from sklearn.model_selection import train_test_split\n",
    "def plot_learning_curves(model, X, y):\n",
    " X_train, X_val, y_train, y_val = train_test_split(X, y, test_size=0.2)\n",
    " \n",
    " train_errors, val_errors = [], []\n",
    " for m in range(1, len(X_train)):\n",
    "    model.fit(X_train[:m], y_train[:m])\n",
    "    y_train_predict = model.predict(X_train[:m])\n",
    "    y_val_predict = model.predict(X_val)\n",
    "    train_errors.append(mean_squared_error(y_train[:m], y_train_predict))\n",
    "    val_errors.append(mean_squared_error(y_val, y_val_predict))\n",
    "    plt.plot(np.sqrt(train_errors), \"r-+\", linewidth=2, label=\"train\")\n",
    "    plt.plot(np.sqrt(val_errors), \"b-\", linewidth=3, label=\"val\")\n"
   ]
  },
  {
   "cell_type": "code",
   "execution_count": null,
   "id": "75c1d889-fbed-4633-a543-3cdc71ca52bb",
   "metadata": {},
   "outputs": [],
   "source": [
    "lin_reg = LinearRegression()\n",
    "plot_learning_curves(lin_reg, X, y)\n"
   ]
  },
  {
   "cell_type": "raw",
   "id": "7899ca23-d096-4296-bb76-aa25fdf010a7",
   "metadata": {},
   "source": [
    "If your model is underfitting the training data, adding more train‐\n",
    "ing examples will not help. You need to use a more complex model\n",
    "or come up with better features."
   ]
  },
  {
   "cell_type": "code",
   "execution_count": 30,
   "id": "3cc95172-a890-459e-87bd-ee657155c238",
   "metadata": {},
   "outputs": [
    {
     "data": {
      "image/png": "[encoded data removed]",
      "text/plain": [
       "<Figure size 640x480 with 1 Axes>"
      ]
     },
     "metadata": {},
     "output_type": "display_data"
    }
   ],
   "source": [
    "from sklearn.pipeline import Pipeline\n",
    "polynomial_regression = Pipeline([\n",
    " (\"poly_features\", PolynomialFeatures(degree=10, include_bias=False)),\n",
    " (\"lin_reg\", LinearRegression()),\n",
    " ])\n",
    "plot_learning_curves(polynomial_regression, X, y)\n"
   ]
  },
  {
   "cell_type": "raw",
   "id": "6f838635-f3dd-4bc5-90fb-09886296435f",
   "metadata": {},
   "source": [
    "One way to improve an overfitting model is to feed it more training\n",
    "data until the validation error reaches the training error"
   ]
  },
  {
   "cell_type": "raw",
   "id": "2c16bc9c-9202-489b-ada4-996e0da01e17",
   "metadata": {},
   "source": [
    "An important theoretical result of statistics and Machine Learning is the fact that a\n",
    "model’s generalization error can be expressed as the sum of three very different\n",
    "errors:\n",
    "Bias\n",
    "This part of the generalization error is due to wrong assumptions, such as assum‐\n",
    "ing that the data is linear when it is actually quadratic. A high-bias model is most\n",
    "likely to underfit the training data.10\n",
    "Variance\n",
    "This part is due to the model’s excessive sensitivity to small variations in the\n",
    "training data. A model with many degrees of freedom (such as a high-degree pol‐\n",
    "ynomial model) is likely to have high variance, and thus to overfit the training\n",
    "data.\n",
    "Irreducible error\n",
    "This part is due to the noisiness of the data itself. The only way to reduce this\n",
    "part of the error is to clean up the data (e.g., fix the data sources, such as broken\n",
    "sensors, or detect and remove outliers).\n",
    "Increasing a model’s complexity will typically increase its variance and reduce its bias.\n",
    "Conversely, reducing a model’s complexity increases its bias and reduces its variance.\n",
    "This is why it is called a tradeoff."
   ]
  },
  {
   "cell_type": "raw",
   "id": "bf1ebed3-e36c-4ba9-a24f-4d3442a9ba07",
   "metadata": {},
   "source": [
    "REGULARIZED LINEAR MODELS"
   ]
  },
  {
   "cell_type": "code",
   "execution_count": 31,
   "id": "e88ff5f1-1f56-4871-9c54-8d016d28eacf",
   "metadata": {},
   "outputs": [
    {
     "data": {
      "text/plain": [
       "array([[4.76931382]])"
      ]
     },
     "execution_count": 31,
     "metadata": {},
     "output_type": "execute_result"
    }
   ],
   "source": [
    "#RIDGE REGRESSION\n",
    "from sklearn.linear_model import Ridge\n",
    "ridge_reg = Ridge(alpha=1, solver=\"cholesky\")\n",
    "ridge_reg.fit(X, y)\n",
    "ridge_reg.predict([[1.5]])"
   ]
  },
  {
   "cell_type": "code",
   "execution_count": null,
   "id": "5ce038fb-4a4b-4f2a-9dc1-9cce04790484",
   "metadata": {},
   "outputs": [],
   "source": []
  }
 ],
 "metadata": {
  "kernelspec": {
   "display_name": "Python 3 (ipykernel)",
   "language": "python",
   "name": "python3"
  },
  "language_info": {
   "codemirror_mode": {
    "name": "ipython",
    "version": 3
   },
   "file_extension": ".py",
   "mimetype": "text/x-python",
   "name": "python",
   "nbconvert_exporter": "python",
   "pygments_lexer": "ipython3",
   "version": "3.13.0"
  }
 },
 "nbformat": 4,
 "nbformat_minor": 5
}
