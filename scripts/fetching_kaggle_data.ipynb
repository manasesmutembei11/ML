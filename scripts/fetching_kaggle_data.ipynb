{
 "cells": [
  {
   "cell_type": "code",
   "execution_count": null,
   "id": "fbae3dc2-bef3-4769-967e-abf939590a8c",
   "metadata": {},
   "outputs": [],
   "source": [
    "import os\n",
    "import pandas as pd\n",
    "from kaggle.api.kaggle_api_extended import KaggleApi\n",
    "\n",
    "# Authenticate Kaggle API\n",
    "api = KaggleApi()\n",
    "api.authenticate()\n",
    "\n",
    "# Define dataset slug and file name\n",
    "dataset_slug = \"zynicide/wine-reviews\"  # Example dataset\n",
    "dataset_file = \"winemag-data-130k-v2.csv\"  # CSV file within the dataset\n",
    "\n",
    "# Define download path\n",
    "download_path = \"./kaggle_data\"\n",
    "os.makedirs(download_path, exist_ok=True)\n",
    "\n",
    "# Download and unzip dataset\n",
    "api.dataset_download_files(dataset_slug, path=download_path, unzip=True)\n",
    "\n",
    "# Read the CSV file into a Pandas DataFrame\n",
    "file_path = os.path.join(download_path, dataset_file)\n",
    "df = pd.read_csv(file_path)\n",
    "\n",
    "# Display the first few rows of the dataset\n",
    "print(df.head())"
   ]
  }
 ],
 "metadata": {
  "kernelspec": {
   "display_name": "Python 3 (ipykernel)",
   "language": "python",
   "name": "python3"
  },
  "language_info": {
   "codemirror_mode": {
    "name": "ipython",
    "version": 3
   },
   "file_extension": ".py",
   "mimetype": "text/x-python",
   "name": "python",
   "nbconvert_exporter": "python",
   "pygments_lexer": "ipython3",
   "version": "3.13.1"
  }
 },
 "nbformat": 4,
 "nbformat_minor": 5
}
